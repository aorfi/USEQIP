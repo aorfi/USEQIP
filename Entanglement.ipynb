{
 "cells": [
  {
   "cell_type": "markdown",
   "metadata": {},
   "source": [
    "<img src=\"../../../images/qiskit-heading.gif\" alt=\"Note: In order for images to show up in this jupyter notebook you need to select File => Trusted Notebook\" width=\"500 px\" align=\"left\">"
   ]
  },
  {
   "cell_type": "markdown",
   "metadata": {},
   "source": [
    "## Quantum Entanglement and Teleportation"
   ]
  },
  {
   "cell_type": "code",
   "execution_count": 2,
   "metadata": {
    "ExecuteTime": {
     "end_time": "2018-09-29T01:23:57.423948Z",
     "start_time": "2018-09-29T01:23:57.186244Z"
    }
   },
   "outputs": [],
   "source": [
    "# useful additional packages \n",
    "import matplotlib.pyplot as plt\n",
    "%matplotlib inline\n",
    "import numpy as np\n",
    "\n",
    "# importing Qiskit\n",
    "from qiskit import QuantumCircuit, QuantumRegister, ClassicalRegister\n",
    "from qiskit import Aer, IBMQ, execute\n",
    "from qiskit.providers.aer import noise\n",
    "# import basic plot tools\n",
    "from qiskit.tools.visualization import plot_histogram"
   ]
  },
  {
   "cell_type": "code",
   "execution_count": 15,
   "metadata": {},
   "outputs": [
    {
     "name": "stderr",
     "output_type": "stream",
     "text": [
      "C:\\Users\\aorfi\\Anaconda3\\lib\\site-packages\\qiskit\\providers\\ibmq\\ibmqprovider.py:272: UserWarning: Credentials are already in use.\n",
      "  warnings.warn('Credentials are already in use.')\n"
     ]
    },
    {
     "ename": "AttributeError",
     "evalue": "'_Helper' object has no attribute 'initlize'",
     "output_type": "error",
     "traceback": [
      "\u001b[1;31m---------------------------------------------------------------------------\u001b[0m",
      "\u001b[1;31mAttributeError\u001b[0m                            Traceback (most recent call last)",
      "\u001b[1;32m<ipython-input-15-29d5497c2529>\u001b[0m in \u001b[0;36m<module>\u001b[1;34m\u001b[0m\n\u001b[0;32m      2\u001b[0m \u001b[0mbackend\u001b[0m \u001b[1;33m=\u001b[0m \u001b[0mIBMQ\u001b[0m\u001b[1;33m.\u001b[0m\u001b[0mget_backend\u001b[0m\u001b[1;33m(\u001b[0m\u001b[1;34m'ibmq_16_melbourne'\u001b[0m\u001b[1;33m)\u001b[0m\u001b[1;33m\u001b[0m\u001b[1;33m\u001b[0m\u001b[0m\n\u001b[0;32m      3\u001b[0m \u001b[0mbackend_sim\u001b[0m \u001b[1;33m=\u001b[0m \u001b[0mAer\u001b[0m\u001b[1;33m.\u001b[0m\u001b[0mget_backend\u001b[0m\u001b[1;33m(\u001b[0m\u001b[1;34m'qasm_simulator'\u001b[0m\u001b[1;33m)\u001b[0m\u001b[1;33m\u001b[0m\u001b[1;33m\u001b[0m\u001b[0m\n\u001b[1;32m----> 4\u001b[1;33m \u001b[0mhelp\u001b[0m\u001b[1;33m.\u001b[0m\u001b[0minitlize\u001b[0m\u001b[1;33m\u001b[0m\u001b[1;33m\u001b[0m\u001b[0m\n\u001b[0m",
      "\u001b[1;31mAttributeError\u001b[0m: '_Helper' object has no attribute 'initlize'"
     ]
    }
   ],
   "source": [
    "IBMQ.load_accounts()\n",
    "backend = IBMQ.get_backend('ibmq_16_melbourne')\n",
    "backend_sim = Aer.get_backend('qasm_simulator')\n",
    "help.initlize\n"
   ]
  },
  {
   "cell_type": "markdown",
   "metadata": {},
   "source": [
    "## Introduction\n",
    "\n",
    "In this entanglement tutorial, we will introduce you to the quantum concept of entanglement, in particular, the maximally entangled quantum state $|\\psi\\rangle = (|00\\rangle + |11\\rangle)$. We will create this entangled state on a real quantum device."
   ]
  },
  {
   "cell_type": "markdown",
   "metadata": {
    "solution": "hidden"
   },
   "source": [
    "## Entanglement<a id='entanglement'></a>\n",
    "\n",
    "Entanglement is one of the properties that grants quantum computing its power to perform certain calculations quicker than classical algorithms.\n",
    "\n",
    "We believe that if you can grasp the following two Principles, you will have a good start: \n",
    "1. A physical system in a definite state can still behave randomly.\n",
    "2. Two systems that are too far apart to influence each other can nevertheless behave in ways that, though individually random, are somehow strongly correlated.\n",
    "\n",
    "The core idea behind the second Principle is *entanglement*. Upon reading the Principle, one might be inclined to think that entanglement is simply strong correlation between two entitities -- but entanglement goes well beyond mere perfect (classical) correlation. If you and I read the same paper, we will have learned the same information. If a third person comes along and reads the same paper they <i>also</i> will have learned this information. All three persons in this case are perfectly correlated, and they will remain correlated even if they are separated from each other. \n",
    "\n",
    "The situation with quantum entanglement is a bit more subtle. In the quantum world, you and I could read the same quantum paper, and yet we will not learn what information is actually contained in the paper until we get together and share our information. However, when we are together, we find that we can unlock more information from the paper than we initially thought possible. Thus, quantum entanglement goes much further than perfect correlation.\n",
    "\n",
    "To demonstrate this, we will define the controlled-NOT (CNOT) gate and the composition of two systems. The convention we use Qiskit is to label states by writing the first qubit's name in the rightmost position, thereby allowing us to easily convert from binary to decimal. As a result, we define the tensor product between operators $q_0$ and $q_1$ by $q_1\\otimes q_0$. \n",
    "\n",
    "Taking $q_0$ as the control and $q_1$ as the target, the CNOT with this representation is given by\n",
    "\n",
    "$$ CNOT =\\begin{pmatrix} 1 & 0 & 0 & 0\\\\ 0 & 0 & 0 & 1\\\\0& 0& 1 & 0\\\\0 & 1 & 0 & 0 \\end{pmatrix},$$\n",
    "\n",
    "which is non-standard in the quantum community, but more easily connects to classical computing, where the least significant bit (LSB) is typically on the right. An entangled state of the two qubits can be made via an $H$ gate on the control qubit, followed by the CNOT gate. This generates a particular maximally entangled two-qubit state known as a Bell state, named after John Stewart Bell ([learn more about Bell and his contributions to quantum physics and entanglement](https://en.wikipedia.org/wiki/John_Stewart_Bell)). \n"
   ]
  },
  {
   "cell_type": "markdown",
   "metadata": {},
   "source": [
    "To explore this, we can prepare an entangled state of two qubits, and then ask questions about the qubit states. The questions we can ask are:\n",
    "* What is the state of the first qubit in the standard basis?\n",
    "* What is the state of the first qubit in the superposition basis?\n",
    "* What is the state of the second qubit in the standard basis?\n",
    "* What is the state of the second qubit in the superposition basis?\n",
    "* What is the state of both qubits in the standard basis?\n",
    "* what is the state of both qubits in the superposition basis?\n",
    "\n",
    "Below is a program to create an initial Bell state."
   ]
  },
  {
   "cell_type": "code",
   "execution_count": 4,
   "metadata": {
    "ExecuteTime": {
     "end_time": "2018-09-29T01:22:38.849434Z",
     "start_time": "2018-09-29T01:22:38.834026Z"
    }
   },
   "outputs": [
    {
     "data": {
      "text/plain": [
       "<qiskit.extensions.standard.cx.CnotGate at 0x251feb65550>"
      ]
     },
     "execution_count": 4,
     "metadata": {},
     "output_type": "execute_result"
    }
   ],
   "source": [
    "# Creating registers\n",
    "q2 = QuantumRegister(2)\n",
    "c1 = ClassicalRegister(1)\n",
    "c2 = ClassicalRegister(2)\n",
    "\n",
    "# quantum circuit to make an entangled bell state \n",
    "bell = QuantumCircuit(q2)\n",
    "bell.h(q2[0])\n",
    "bell.cx(q2[0], q2[1])"
   ]
  },
  {
   "cell_type": "markdown",
   "metadata": {},
   "source": [
    "Even though the physical measurement basis of our device are constrained to the standard basis. We can apply a sequence of gates to our qubits to rotate the qubit state such that it is mathematically equivalent to measuring in a different basis.\n",
    "\n",
    "For example consider the measurement of the state $|0>$ in the superposition, or bell basis $\\{|+>, |->\\}$. We wish to measure our Bell circuit $U_{bell}$ operation on the ground state, $|0>$. The desired measurement propabilities we wish to obtain are therefore\n",
    "\n",
    "$p_+ = |<+|U_{bell}|0>|^2$ and $p_- = |<-|U_{bell}|0>|^2$\n",
    "\n",
    "However, we only have access to the measurement projectors $\\{|0>, |1>\\}$ on our device. But if we insert the proper rotations we prior to measurement of our qubits we can get around this. In this case we apply hadamards prior to measurement.\n",
    "\n",
    "$p_+ = |<+|U_{bell}|0>|^2=|<0|H U_{bell}|0>|^2$ and $p_- = |<-|U_{bell}|0>|^2 = |<0|H U_{bell}|0>|^2 $\n",
    "\n",
    "Which allows us in general to measure any desired basis."
   ]
  },
  {
   "cell_type": "markdown",
   "metadata": {
    "solution": "hidden",
    "solution_first": true
   },
   "source": [
    "<span class=\"badge badge-primary\">Exercise 2.0</span> Create circuits that measure in the basis `IZ`, `IX`, `ZI`, `XI`, `ZZ` and `XX`. Name these circuits `bell##`.\n",
    "\n",
    "Note that the `I` corresponds to no measure on the given qubit, `Z` is the standard computational basis and `X` is the superposition basis."
   ]
  },
  {
   "cell_type": "code",
   "execution_count": 5,
   "metadata": {
    "solution": "hidden"
   },
   "outputs": [],
   "source": [
    "# quantum circuit to measure q0 in the standard basis\n",
    "measureIZ = QuantumCircuit(q2, c1)\n",
    "measureIZ.measure(q2[0], c1[0])\n",
    "bellIZ = bell+measureIZ\n",
    "\n",
    "# quantum circuit to measure q0 in the superposition basis \n",
    "measureIX = QuantumCircuit(q2, c1)\n",
    "measureIX.h(q2[0])\n",
    "measureIX.measure(q2[0], c1[0])\n",
    "bellIX = bell+measureIX\n",
    "\n",
    "# quantum circuit to measure q1 in the standard basis\n",
    "measureZI = QuantumCircuit(q2, c1)\n",
    "measureZI.measure(q2[1], c1[0])\n",
    "bellZI = bell+measureZI\n",
    "\n",
    "# quantum circuit to measure q1 in the superposition basis \n",
    "measureXI = QuantumCircuit(q2, c1)\n",
    "measureXI.h(q2[1])\n",
    "measureXI.measure(q2[1], c1[0])\n",
    "bellXI = bell+measureXI\n",
    "\n",
    "# quantum circuit to measure q in the standard basis \n",
    "measureZZ = QuantumCircuit(q2, c2)\n",
    "measureZZ.measure(q2[0], c2[0])\n",
    "measureZZ.measure(q2[1], c2[1])\n",
    "bellZZ = bell+measureZZ\n",
    "\n",
    "# quantum circuit to measure q in the superposition basis \n",
    "measureXX = QuantumCircuit(q2, c2)\n",
    "measureXX.h(q2[0])\n",
    "measureXX.h(q2[1])\n",
    "measureXX.measure(q2[0], c2[0])\n",
    "measureXX.measure(q2[1], c2[1])\n",
    "bellXX = bell+measureXX"
   ]
  },
  {
   "cell_type": "code",
   "execution_count": 6,
   "metadata": {},
   "outputs": [],
   "source": [
    "# bellIZ = pass \n",
    "# bellIX = pass \n",
    "# bellZI = pass \n",
    "# bellXI = pass \n",
    "# bellZZ = pass \n",
    "# bellXX = pass "
   ]
  },
  {
   "cell_type": "markdown",
   "metadata": {},
   "source": [
    "Now we'll exam the circuits you created"
   ]
  },
  {
   "cell_type": "code",
   "execution_count": 8,
   "metadata": {
    "ExecuteTime": {
     "end_time": "2018-09-29T01:22:40.148814Z",
     "start_time": "2018-09-29T01:22:38.852125Z"
    }
   },
   "outputs": [
    {
     "data": {
      "image/png": "[encoded data removed]",
      "text/plain": [
       "<Figure size 421.4x198.66 with 1 Axes>"
      ]
     },
     "execution_count": 8,
     "metadata": {},
     "output_type": "execute_result"
    }
   ],
   "source": [
    "bellIZ.draw(output='mpl')"
   ]
  },
  {
   "cell_type": "code",
   "execution_count": 9,
   "metadata": {
    "ExecuteTime": {
     "end_time": "2018-09-29T01:22:41.366322Z",
     "start_time": "2018-09-29T01:22:40.151424Z"
    }
   },
   "outputs": [
    {
     "data": {
      "image/png": "[encoded data removed]",
      "text/plain": [
       "<Figure size 481.6x198.66 with 1 Axes>"
      ]
     },
     "execution_count": 9,
     "metadata": {},
     "output_type": "execute_result"
    }
   ],
   "source": [
    "bellIX.draw(output='mpl')"
   ]
  },
  {
   "cell_type": "code",
   "execution_count": 10,
   "metadata": {
    "ExecuteTime": {
     "end_time": "2018-09-29T01:22:42.644760Z",
     "start_time": "2018-09-29T01:22:41.370675Z"
    }
   },
   "outputs": [
    {
     "data": {
      "image/png": "[encoded data removed]",
      "text/plain": [
       "<Figure size 421.4x198.66 with 1 Axes>"
      ]
     },
     "execution_count": 10,
     "metadata": {},
     "output_type": "execute_result"
    }
   ],
   "source": [
    "bellZI.draw(output='mpl')"
   ]
  },
  {
   "cell_type": "code",
   "execution_count": 11,
   "metadata": {
    "ExecuteTime": {
     "end_time": "2018-09-29T01:22:43.840088Z",
     "start_time": "2018-09-29T01:22:42.647011Z"
    },
    "scrolled": true
   },
   "outputs": [
    {
     "data": {
      "image/png": "[encoded data removed]",
      "text/plain": [
       "<Figure size 481.6x198.66 with 1 Axes>"
      ]
     },
     "execution_count": 11,
     "metadata": {},
     "output_type": "execute_result"
    }
   ],
   "source": [
    "bellXI.draw(output='mpl')"
   ]
  },
  {
   "cell_type": "code",
   "execution_count": 12,
   "metadata": {
    "ExecuteTime": {
     "end_time": "2018-09-29T01:22:45.115744Z",
     "start_time": "2018-09-29T01:22:43.842944Z"
    }
   },
   "outputs": [
    {
     "data": {
      "image/png": "[encoded data removed]",
      "text/plain": [
       "<Figure size 541.8x258.86 with 1 Axes>"
      ]
     },
     "execution_count": 12,
     "metadata": {},
     "output_type": "execute_result"
    }
   ],
   "source": [
    "bellZZ.draw(output='mpl')"
   ]
  },
  {
   "cell_type": "code",
   "execution_count": 13,
   "metadata": {
    "ExecuteTime": {
     "end_time": "2018-09-29T01:22:46.393088Z",
     "start_time": "2018-09-29T01:22:45.117743Z"
    }
   },
   "outputs": [
    {
     "data": {
      "image/png": "[encoded data removed]",
      "text/plain": [
       "<Figure size 602x258.86 with 1 Axes>"
      ]
     },
     "execution_count": 13,
     "metadata": {},
     "output_type": "execute_result"
    }
   ],
   "source": [
    "bellXX.draw(output='mpl')"
   ]
  },
  {
   "cell_type": "markdown",
   "metadata": {},
   "source": [
    "Let's begin by running just the first two questions, looking at the results of the first qubit ($q_0$) using a computational and then a superposition measurement."
   ]
  },
  {
   "cell_type": "markdown",
   "metadata": {
    "solution": "hidden",
    "solution_first": true
   },
   "source": [
    "<span class=\"badge badge-primary\">Exercise 2.1</span> Run all of the circuits together on `backend_sim` and get a single `result` object."
   ]
  },
  {
   "cell_type": "code",
   "execution_count": 7,
   "metadata": {
    "solution": "hidden"
   },
   "outputs": [],
   "source": [
    "circuits = [bellIZ,bellIX,bellZI,bellXI,bellZZ,bellXX]\n",
    "job = execute(circuits, backend_sim)\n",
    "result = job.result()"
   ]
  },
  {
   "cell_type": "code",
   "execution_count": 8,
   "metadata": {
    "ExecuteTime": {
     "end_time": "2018-09-29T01:22:46.749149Z",
     "start_time": "2018-09-29T01:22:46.395377Z"
    },
    "solution": "hidden"
   },
   "outputs": [
    {
     "data": {
      "image/png": "[encoded data removed]",
      "text/plain": [
       "<Figure size 504x360 with 1 Axes>"
      ]
     },
     "execution_count": 8,
     "metadata": {},
     "output_type": "execute_result"
    }
   ],
   "source": [
    "plot_histogram(result.get_counts(bellIZ))"
   ]
  },
  {
   "cell_type": "code",
   "execution_count": 9,
   "metadata": {
    "ExecuteTime": {
     "end_time": "2018-09-29T01:22:46.766640Z",
     "start_time": "2018-09-29T01:22:46.753801Z"
    }
   },
   "outputs": [
    {
     "data": {
      "text/plain": [
       "{'0': 498, '1': 526}"
      ]
     },
     "execution_count": 9,
     "metadata": {},
     "output_type": "execute_result"
    }
   ],
   "source": [
    "result.get_counts(bellIZ)"
   ]
  },
  {
   "cell_type": "markdown",
   "metadata": {},
   "source": [
    "We find that the result is random. Half the time $q_0$ is in  $|0\\rangle$, and the other half it is in the $|1\\rangle$ state. You may wonder whether this is like the superposition from earlier in the tutorial. Maybe the qubit has a perfectly definite state, and we are simply measuring in another basis.  What would you expect if you did the experiment and measured in the superposition basis? Recall we do this by adding an $H$ gate before the measurement...which is exactly what we have checked with the second question."
   ]
  },
  {
   "cell_type": "code",
   "execution_count": 10,
   "metadata": {
    "ExecuteTime": {
     "end_time": "2018-09-29T01:22:47.001529Z",
     "start_time": "2018-09-29T01:22:46.769186Z"
    }
   },
   "outputs": [
    {
     "data": {
      "image/png": "[encoded data removed]",
      "text/plain": [
       "<Figure size 504x360 with 1 Axes>"
      ]
     },
     "execution_count": 10,
     "metadata": {},
     "output_type": "execute_result"
    }
   ],
   "source": [
    "plot_histogram(result.get_counts(bellIX))"
   ]
  },
  {
   "cell_type": "markdown",
   "metadata": {},
   "source": [
    "In this case, we see that the result is still random, regardless of whether we measure in the computational or the superposition basis. This tells us that we actually know nothing about the first qubit. What about the second qubit, $q_1$? The next lines will run experiments measuring the second qubit in both the computational and superposition bases."
   ]
  },
  {
   "cell_type": "code",
   "execution_count": 11,
   "metadata": {
    "ExecuteTime": {
     "end_time": "2018-09-29T01:22:47.382298Z",
     "start_time": "2018-09-29T01:22:47.006601Z"
    }
   },
   "outputs": [
    {
     "data": {
      "image/png": "[encoded data removed]",
      "text/plain": [
       "<Figure size 504x360 with 1 Axes>"
      ]
     },
     "execution_count": 11,
     "metadata": {},
     "output_type": "execute_result"
    }
   ],
   "source": [
    "plot_histogram(result.get_counts(bellZI))"
   ]
  },
  {
   "cell_type": "code",
   "execution_count": 12,
   "metadata": {},
   "outputs": [
    {
     "data": {
      "image/png": "[encoded data removed]",
      "text/plain": [
       "<Figure size 504x360 with 1 Axes>"
      ]
     },
     "execution_count": 12,
     "metadata": {},
     "output_type": "execute_result"
    }
   ],
   "source": [
    "plot_histogram(result.get_counts(bellXI))"
   ]
  },
  {
   "cell_type": "markdown",
   "metadata": {},
   "source": [
    "Once again, all the experiments give random outcomes. It seems we know nothing about either qubit in our system! In our previous analogy, this is equivalent to two readers separately reading a quantum paper and extracting no information whatsoever from it on their own.\n",
    "\n",
    "What do you expect, however, when the readers get together?  Below we will measure both in the joint computational basis. "
   ]
  },
  {
   "cell_type": "code",
   "execution_count": 13,
   "metadata": {
    "ExecuteTime": {
     "end_time": "2018-09-29T01:22:47.590775Z",
     "start_time": "2018-09-29T01:22:47.385718Z"
    }
   },
   "outputs": [
    {
     "data": {
      "image/png": "[encoded data removed]",
      "text/plain": [
       "<Figure size 504x360 with 1 Axes>"
      ]
     },
     "execution_count": 13,
     "metadata": {},
     "output_type": "execute_result"
    }
   ],
   "source": [
    "plot_histogram(result.get_counts(bellZZ))"
   ]
  },
  {
   "cell_type": "markdown",
   "metadata": {},
   "source": [
    "Here we see that with high probability, if $q_0$ is in state 0, $q_1$ will be in 0 as well; the same goes if $q_0$ is in state 1. They are perfectly correlated.\n",
    "\n",
    "What about if we measure both in the superposition basis?  "
   ]
  },
  {
   "cell_type": "code",
   "execution_count": 22,
   "metadata": {
    "ExecuteTime": {
     "end_time": "2018-09-29T01:22:47.802764Z",
     "start_time": "2018-09-29T01:22:47.594050Z"
    }
   },
   "outputs": [
    {
     "data": {
      "image/png": "[encoded data removed]",
      "text/plain": [
       "<Figure size 504x360 with 1 Axes>"
      ]
     },
     "execution_count": 22,
     "metadata": {},
     "output_type": "execute_result"
    }
   ],
   "source": [
    "plot_histogram(result.get_counts(bellXX))"
   ]
  },
  {
   "cell_type": "markdown",
   "metadata": {},
   "source": [
    "Here we see that the system **also** has perfect correlations (accounting for experimental noise). Therefore, if $q_0$ is measured in state $|0\\rangle$, we know $q_1$ is in this state as well; likewise, if $q_0$ is measured in state $|+\\rangle$, we know $q_1$ is also in this state. These correlations have led to much confusion in science, because any attempt to relate the unusual behavior of quantum entanglement to our everyday experiences is a fruitless endeavor. \n",
    "\n",
    "Finally, we need to point out that having correlated outcomes does not necessarily imply that what we are observing is an entangled state. What would we observe, for example, if we prepared half of our shots in the $|00\\rangle$ state and half of the shots in the $|11\\rangle$ state? Let's have a look"
   ]
  },
  {
   "cell_type": "code",
   "execution_count": 14,
   "metadata": {
    "ExecuteTime": {
     "end_time": "2018-09-29T01:22:49.085422Z",
     "start_time": "2018-09-29T01:22:47.807163Z"
    }
   },
   "outputs": [
    {
     "data": {
      "image/png": "[encoded data removed]",
      "text/plain": [
       "<Figure size 421.4x258.86 with 1 Axes>"
      ]
     },
     "execution_count": 14,
     "metadata": {},
     "output_type": "execute_result"
    }
   ],
   "source": [
    "# quantum circuit to make a mixed state \n",
    "mixed1 = QuantumCircuit(q2, c2)\n",
    "mixed2 = QuantumCircuit(q2, c2)\n",
    "mixed2.x(q2)\n",
    "mixed1.measure(q2[0], c2[0])\n",
    "mixed1.measure(q2[1], c2[1])\n",
    "mixed2.measure(q2[0], c2[0])\n",
    "mixed2.measure(q2[1], c2[1])\n",
    "\n",
    "mixed1.draw(output='mpl')"
   ]
  },
  {
   "cell_type": "code",
   "execution_count": 24,
   "metadata": {
    "ExecuteTime": {
     "end_time": "2018-09-29T01:22:50.238478Z",
     "start_time": "2018-09-29T01:22:49.087602Z"
    }
   },
   "outputs": [
    {
     "data": {
      "image/png": "[encoded data removed]",
      "text/plain": [
       "<Figure size 481.6x258.86 with 1 Axes>"
      ]
     },
     "execution_count": 24,
     "metadata": {},
     "output_type": "execute_result"
    }
   ],
   "source": [
    "mixed2.draw(output='mpl')"
   ]
  },
  {
   "cell_type": "code",
   "execution_count": 43,
   "metadata": {
    "ExecuteTime": {
     "end_time": "2018-09-29T01:22:50.594107Z",
     "start_time": "2018-09-29T01:22:50.241472Z"
    }
   },
   "outputs": [
    {
     "data": {
      "image/png": "[encoded data removed]",
      "text/plain": [
       "<Figure size 504x360 with 1 Axes>"
      ]
     },
     "execution_count": 43,
     "metadata": {},
     "output_type": "execute_result"
    }
   ],
   "source": [
    "mixed_state = [mixed1,mixed2]\n",
    "job = execute(mixed_state, backend_sim)\n",
    "mixed_result = job.result()\n",
    "\n",
    "counts1 = mixed_result.get_counts(mixed_state[0])\n",
    "counts2 = mixed_result.get_counts(mixed_state[1])\n",
    "\n",
    "from collections import Counter\n",
    "ground = Counter(counts1)\n",
    "excited = Counter(counts2)\n",
    "plot_histogram(ground+excited)"
   ]
  },
  {
   "cell_type": "markdown",
   "metadata": {
    "solution": "hidden"
   },
   "source": [
    "We do see the same kind of correlation indeed as we observed in the \"bell_measureZZ\" circuit. But we know this is not an entangled state! All we have done is leave the qubits in their ground state for some of the shots and flip both qubits for some of the shots. This is called a mixed state and it is a classical state."
   ]
  },
  {
   "cell_type": "markdown",
   "metadata": {
    "solution": "hidden",
    "solution_first": true
   },
   "source": [
    "<span class=\"badge badge-primary\">Exercise 2.2</span> What would happen if we measured this mixed state in the superposition basis? Try this out yourself with a simulator."
   ]
  },
  {
   "cell_type": "code",
   "execution_count": 31,
   "metadata": {
    "solution": "hidden"
   },
   "outputs": [
    {
     "data": {
      "text/plain": [
       "<qiskit.circuit.measure.Measure at 0x1315e6828>"
      ]
     },
     "execution_count": 31,
     "metadata": {},
     "output_type": "execute_result"
    }
   ],
   "source": [
    "# quantum circuit to make a mixed state \n",
    "super_mixed1 = QuantumCircuit(q2, c2)\n",
    "super_mixed2 = QuantumCircuit(q2, c2)\n",
    "super_mixed2.x(q2)\n",
    "super_mixed2.x(q2)\n",
    "super_mixed1.x(q2)\n",
    "super_mixed1.measure(q2[0], c2[0])\n",
    "super_mixed1.measure(q2[1], c2[1])\n",
    "super_mixed2.measure(q2[0], c2[0])\n",
    "super_mixed2.measure(q2[1], c2[1])"
   ]
  },
  {
   "cell_type": "code",
   "execution_count": 32,
   "metadata": {
    "solution": "hidden"
   },
   "outputs": [
    {
     "data": {
      "image/png": "[encoded data removed]",
      "text/plain": [
       "<Figure size 504x360 with 1 Axes>"
      ]
     },
     "execution_count": 32,
     "metadata": {},
     "output_type": "execute_result"
    }
   ],
   "source": [
    "super_mixed_state = [super_mixed1,super_mixed2]\n",
    "job = execute(super_mixed_state, backend_sim)\n",
    "result = job.result()\n",
    "\n",
    "super_counts1 = result.get_counts(super_mixed_state[0])\n",
    "super_counts2 = result.get_counts(super_mixed_state[1])\n",
    "\n",
    "from collections import Counter\n",
    "super_ground = Counter(super_counts1)\n",
    "super_excited = Counter(super_counts2)\n",
    "plot_histogram(super_ground+super_excited)"
   ]
  },
  {
   "cell_type": "markdown",
   "metadata": {},
   "source": [
    "In this case we observe no difference between the two basis. Measuring in the superposition basis is equivalent to swapping the names on the two mixture circuits and effectively does nothing."
   ]
  },
  {
   "cell_type": "markdown",
   "metadata": {
    "solution": "shown",
    "solution_first": true
   },
   "source": [
    "<span class=\"badge badge-primary\">Exercise 2.3</span> Create and measure a bell state on the physical device."
   ]
  },
  {
   "cell_type": "code",
   "execution_count": 33,
   "metadata": {
    "solution": "shown"
   },
   "outputs": [],
   "source": [
    "job = execute(circuits, backend)\n",
    "melbourne_result = job.result()"
   ]
  },
  {
   "cell_type": "code",
   "execution_count": 36,
   "metadata": {
    "solution": "shown"
   },
   "outputs": [
    {
     "data": {
      "image/png": "[encoded data removed]",
      "text/plain": [
       "<Figure size 504x360 with 1 Axes>"
      ]
     },
     "execution_count": 36,
     "metadata": {},
     "output_type": "execute_result"
    }
   ],
   "source": [
    "plot_histogram(melbourne_result.get_counts(bellZZ))"
   ]
  },
  {
   "cell_type": "code",
   "execution_count": null,
   "metadata": {},
   "outputs": [],
   "source": [
    "The function below calculates the KL divergence between the ideal counts and the observed counts."
   ]
  },
  {
   "cell_type": "code",
   "execution_count": 46,
   "metadata": {},
   "outputs": [],
   "source": [
    "from scipy.special import xlogy\n",
    "\n",
    "def kl_divergence_counts(ideal_counts, experiment_counts):\n",
    "    kl_diverge = 0\n",
    "    n_shots = sum(ideal_counts.values())\n",
    "    for state in ideal_counts:\n",
    "        ideal_count = ideal_counts[state]\n",
    "        exp_count = experiment_counts.get(state, 0)\n",
    "        kl_diverge -= xlogy(ideal_count/n_shots, exp_count/ideal_count)\n",
    "    return kl_diverge"
   ]
  },
  {
   "cell_type": "markdown",
   "metadata": {
    "solution": "hidden",
    "solution_first": true
   },
   "source": [
    "<span class=\"badge badge-primary\">Exercise 2.4</span> Calculate how close this is to the ideal Bell state counts using the KL divergance as a metric. Does this tell us everything about the quantum state?\n",
    "\n"
   ]
  },
  {
   "cell_type": "markdown",
   "metadata": {},
   "source": [
    "<span class=\"badge badge-primary\">Exercise 2.5</span> Plot the kl-divergence as a function of both number of gates and execution time, comparing single qubit and two qubit gates on the first two qubits. For the single qubit gates apply an `x` gate to each qubit. for the two qubit gates, apply `cx` gates with control qubit 1 and target qubit 0. Make sure to place barriers between each iteration of the circuit so that the transpiler does not optimize the `cx` to the identity. What do you see, and why do you think this might be happening on the device? Can you modify these experiments to extract device parameters?\n",
    "\n",
    "<div class=\"alert alert-block alert-info\">\n",
    "<b>Note:</b> Use the gate times from the last notebook.\n",
    "</div>\n",
    "\n",
    "<div class=\"alert alert-block alert-info\">\n",
    "<b>Note:</b> Provide an 'initial_layout' to 'execute' to specify which qubits the quantum registers will map to on the device.\n",
    "</div>"
   ]
  },
  {
   "cell_type": "code",
   "execution_count": 70,
   "metadata": {},
   "outputs": [],
   "source": [
    "cx_circs = []\n",
    "cx_times = []\n",
    "x_circs = []\n",
    "x_times = []\n",
    "\n",
    "qr = QuantumRegister(2)\n",
    "cr = ClassicalRegister(2)\n",
    "\n",
    "cx_time = 678\n",
    "x_time = 100\n",
    "\n",
    "cx_circ = QuantumCircuit(qr, cr)\n",
    "cx_circ.cx(qr[1], qr[0])\n",
    "cx_circ.barrier()\n",
    "\n",
    "x_circ = QuantumCircuit(qr, cr)\n",
    "x_circ.x(qr)\n",
    "x_circ.barrier()\n",
    "\n",
    "measure_circ = QuantumCircuit(qr, cr)\n",
    "measure_circ.measure(qr, cr)\n",
    "\n",
    "new_cx_circ = cx_circ\n",
    "new_x_circ = x_circ\n",
    "\n",
    "gates = 10\n",
    "\n",
    "for i in range(20):\n",
    "    old_cx_circ = new_cx_circ\n",
    "    new_cx_circ = old_cx_circ + cx_circ\n",
    "    cx_times.append((i+1)*cx_time)\n",
    "    cx_circs.append(old_cx_circ+measure_circ)\n",
    "\n",
    "for i in range(int(np.ceil(gates*cx_time/x_time))):\n",
    "    old_x_circ = new_x_circ\n",
    "    new_x_circ = old_x_circ + x_circ\n",
    "    x_times.append((i+1)*x_time)\n",
    "    x_circs.append(old_x_circ+measure_circ)"
   ]
  },
  {
   "cell_type": "code",
   "execution_count": 79,
   "metadata": {},
   "outputs": [
    {
     "data": {
      "text/html": [
       "<pre style=\"word-wrap: normal;white-space: pre;line-height: 15px;\">          ┌───┐ ░ ┌───┐ ░ ┌───┐ ░ ┌───┐ ░ ┌───┐ ░ ┌───┐ ░ ┌───┐ ░ ┌───┐ ░ ┌───┐»\n",
       "q10_0: |0>┤ X ├─░─┤ X ├─░─┤ X ├─░─┤ X ├─░─┤ X ├─░─┤ X ├─░─┤ X ├─░─┤ X ├─░─┤ X ├»\n",
       "          └─┬─┘ ░ └─┬─┘ ░ └─┬─┘ ░ └─┬─┘ ░ └─┬─┘ ░ └─┬─┘ ░ └─┬─┘ ░ └─┬─┘ ░ └─┬─┘»\n",
       "q10_1: |0>──■───░───■───░───■───░───■───░───■───░───■───░───■───░───■───░───■──»\n",
       "                ░       ░       ░       ░       ░       ░       ░       ░      »\n",
       " c11_0: 0 ═════════════════════════════════════════════════════════════════════»\n",
       "                                                                               »\n",
       " c11_1: 0 ═════════════════════════════════════════════════════════════════════»\n",
       "                                                                               »\n",
       "«        ░ ┌───┐ ░ ┌───┐ ░ ┌───┐ ░ ┌───┐ ░ ┌───┐ ░ ┌───┐ ░ ┌───┐ ░ ┌───┐ ░ »\n",
       "«q10_0: ─░─┤ X ├─░─┤ X ├─░─┤ X ├─░─┤ X ├─░─┤ X ├─░─┤ X ├─░─┤ X ├─░─┤ X ├─░─»\n",
       "«        ░ └─┬─┘ ░ └─┬─┘ ░ └─┬─┘ ░ └─┬─┘ ░ └─┬─┘ ░ └─┬─┘ ░ └─┬─┘ ░ └─┬─┘ ░ »\n",
       "«q10_1: ─░───■───░───■───░───■───░───■───░───■───░───■───░───■───░───■───░─»\n",
       "«        ░       ░       ░       ░       ░       ░       ░       ░       ░ »\n",
       "«c11_0: ═══════════════════════════════════════════════════════════════════»\n",
       "«                                                                          »\n",
       "«c11_1: ═══════════════════════════════════════════════════════════════════»\n",
       "«                                                                          »\n",
       "«       ┌───┐ ░ ┌───┐ ░ ┌───┐ ░ ┌─┐   \n",
       "«q10_0: ┤ X ├─░─┤ X ├─░─┤ X ├─░─┤M├───\n",
       "«       └─┬─┘ ░ └─┬─┘ ░ └─┬─┘ ░ └╥┘┌─┐\n",
       "«q10_1: ──■───░───■───░───■───░──╫─┤M├\n",
       "«             ░       ░       ░  ║ └╥┘\n",
       "«c11_0: ═════════════════════════╩══╬═\n",
       "«                                   ║ \n",
       "«c11_1: ════════════════════════════╩═\n",
       "«                                     </pre>"
      ],
      "text/plain": [
       "<qiskit.visualization.text.TextDrawing at 0x133025908>"
      ]
     },
     "execution_count": 79,
     "metadata": {},
     "output_type": "execute_result"
    }
   ],
   "source": [
    "cx_circs[-1].draw()"
   ]
  },
  {
   "cell_type": "code",
   "execution_count": 67,
   "metadata": {},
   "outputs": [
    {
     "data": {
      "text/html": [
       "<pre style=\"word-wrap: normal;white-space: pre;line-height: 15px;\">         ┌───┐ ░ ┌───┐ ░ ┌───┐ ░ ┌───┐ ░ ┌───┐ ░ ┌───┐ ░ ┌───┐ ░ ┌───┐ ░ ┌───┐»\n",
       "q9_0: |0>┤ X ├─░─┤ X ├─░─┤ X ├─░─┤ X ├─░─┤ X ├─░─┤ X ├─░─┤ X ├─░─┤ X ├─░─┤ X ├»\n",
       "         ├───┤ ░ ├───┤ ░ ├───┤ ░ ├───┤ ░ ├───┤ ░ ├───┤ ░ ├───┤ ░ ├───┤ ░ ├───┤»\n",
       "q9_1: |0>┤ X ├─░─┤ X ├─░─┤ X ├─░─┤ X ├─░─┤ X ├─░─┤ X ├─░─┤ X ├─░─┤ X ├─░─┤ X ├»\n",
       "         └───┘ ░ └───┘ ░ └───┘ ░ └───┘ ░ └───┘ ░ └───┘ ░ └───┘ ░ └───┘ ░ └───┘»\n",
       "c10_0: 0 ═════════════════════════════════════════════════════════════════════»\n",
       "                                                                              »\n",
       "c10_1: 0 ═════════════════════════════════════════════════════════════════════»\n",
       "                                                                              »\n",
       "«        ░ ┌───┐ ░ ┌───┐ ░ ┌───┐ ░ ┌───┐ ░ ┌───┐ ░ ┌───┐ ░ ┌───┐ ░ ┌───┐ ░ »\n",
       "« q9_0: ─░─┤ X ├─░─┤ X ├─░─┤ X ├─░─┤ X ├─░─┤ X ├─░─┤ X ├─░─┤ X ├─░─┤ X ├─░─»\n",
       "«        ░ ├───┤ ░ ├───┤ ░ ├───┤ ░ ├───┤ ░ ├───┤ ░ ├───┤ ░ ├───┤ ░ ├───┤ ░ »\n",
       "« q9_1: ─░─┤ X ├─░─┤ X ├─░─┤ X ├─░─┤ X ├─░─┤ X ├─░─┤ X ├─░─┤ X ├─░─┤ X ├─░─»\n",
       "«        ░ └───┘ ░ └───┘ ░ └───┘ ░ └───┘ ░ └───┘ ░ └───┘ ░ └───┘ ░ └───┘ ░ »\n",
       "«c10_0: ═══════════════════════════════════════════════════════════════════»\n",
       "«                                                                          »\n",
       "«c10_1: ═══════════════════════════════════════════════════════════════════»\n",
       "«                                                                          »\n",
       "«       ┌───┐ ░ ┌───┐ ░ ┌───┐ ░ ┌───┐ ░ ┌───┐ ░ ┌───┐ ░ ┌───┐ ░ ┌───┐ ░ ┌───┐»\n",
       "« q9_0: ┤ X ├─░─┤ X ├─░─┤ X ├─░─┤ X ├─░─┤ X ├─░─┤ X ├─░─┤ X ├─░─┤ X ├─░─┤ X ├»\n",
       "«       ├───┤ ░ ├───┤ ░ ├───┤ ░ ├───┤ ░ ├───┤ ░ ├───┤ ░ ├───┤ ░ ├───┤ ░ ├───┤»\n",
       "« q9_1: ┤ X ├─░─┤ X ├─░─┤ X ├─░─┤ X ├─░─┤ X ├─░─┤ X ├─░─┤ X ├─░─┤ X ├─░─┤ X ├»\n",
       "«       └───┘ ░ └───┘ ░ └───┘ ░ └───┘ ░ └───┘ ░ └───┘ ░ └───┘ ░ └───┘ ░ └───┘»\n",
       "«c10_0: ═════════════════════════════════════════════════════════════════════»\n",
       "«                                                                            »\n",
       "«c10_1: ═════════════════════════════════════════════════════════════════════»\n",
       "«                                                                            »\n",
       "«        ░ ┌───┐ ░ ┌───┐ ░ ┌───┐ ░ ┌───┐ ░ ┌───┐ ░ ┌───┐ ░ ┌───┐ ░ ┌───┐ ░ »\n",
       "« q9_0: ─░─┤ X ├─░─┤ X ├─░─┤ X ├─░─┤ X ├─░─┤ X ├─░─┤ X ├─░─┤ X ├─░─┤ X ├─░─»\n",
       "«        ░ ├───┤ ░ ├───┤ ░ ├───┤ ░ ├───┤ ░ ├───┤ ░ ├───┤ ░ ├───┤ ░ ├───┤ ░ »\n",
       "« q9_1: ─░─┤ X ├─░─┤ X ├─░─┤ X ├─░─┤ X ├─░─┤ X ├─░─┤ X ├─░─┤ X ├─░─┤ X ├─░─»\n",
       "«        ░ └───┘ ░ └───┘ ░ └───┘ ░ └───┘ ░ └───┘ ░ └───┘ ░ └───┘ ░ └───┘ ░ »\n",
       "«c10_0: ═══════════════════════════════════════════════════════════════════»\n",
       "«                                                                          »\n",
       "«c10_1: ═══════════════════════════════════════════════════════════════════»\n",
       "«                                                                          »\n",
       "«       ┌───┐ ░ ┌───┐ ░ ┌───┐ ░ ┌───┐ ░ ┌───┐ ░ ┌───┐ ░ ┌───┐ ░ ┌───┐ ░ ┌───┐»\n",
       "« q9_0: ┤ X ├─░─┤ X ├─░─┤ X ├─░─┤ X ├─░─┤ X ├─░─┤ X ├─░─┤ X ├─░─┤ X ├─░─┤ X ├»\n",
       "«       ├───┤ ░ ├───┤ ░ ├───┤ ░ ├───┤ ░ ├───┤ ░ ├───┤ ░ ├───┤ ░ ├───┤ ░ ├───┤»\n",
       "« q9_1: ┤ X ├─░─┤ X ├─░─┤ X ├─░─┤ X ├─░─┤ X ├─░─┤ X ├─░─┤ X ├─░─┤ X ├─░─┤ X ├»\n",
       "«       └───┘ ░ └───┘ ░ └───┘ ░ └───┘ ░ └───┘ ░ └───┘ ░ └───┘ ░ └───┘ ░ └───┘»\n",
       "«c10_0: ═════════════════════════════════════════════════════════════════════»\n",
       "«                                                                            »\n",
       "«c10_1: ═════════════════════════════════════════════════════════════════════»\n",
       "«                                                                            »\n",
       "«        ░ ┌───┐ ░ ┌───┐ ░ ┌───┐ ░ ┌───┐ ░ ┌───┐ ░ ┌───┐ ░ ┌───┐ ░ ┌───┐ ░ »\n",
       "« q9_0: ─░─┤ X ├─░─┤ X ├─░─┤ X ├─░─┤ X ├─░─┤ X ├─░─┤ X ├─░─┤ X ├─░─┤ X ├─░─»\n",
       "«        ░ ├───┤ ░ ├───┤ ░ ├───┤ ░ ├───┤ ░ ├───┤ ░ ├───┤ ░ ├───┤ ░ ├───┤ ░ »\n",
       "« q9_1: ─░─┤ X ├─░─┤ X ├─░─┤ X ├─░─┤ X ├─░─┤ X ├─░─┤ X ├─░─┤ X ├─░─┤ X ├─░─»\n",
       "«        ░ └───┘ ░ └───┘ ░ └───┘ ░ └───┘ ░ └───┘ ░ └───┘ ░ └───┘ ░ └───┘ ░ »\n",
       "«c10_0: ═══════════════════════════════════════════════════════════════════»\n",
       "«                                                                          »\n",
       "«c10_1: ═══════════════════════════════════════════════════════════════════»\n",
       "«                                                                          »\n",
       "«       ┌───┐ ░ ┌───┐ ░ ┌───┐ ░ ┌───┐ ░ ┌───┐ ░ ┌───┐ ░ ┌───┐ ░ ┌───┐ ░ ┌───┐»\n",
       "« q9_0: ┤ X ├─░─┤ X ├─░─┤ X ├─░─┤ X ├─░─┤ X ├─░─┤ X ├─░─┤ X ├─░─┤ X ├─░─┤ X ├»\n",
       "«       ├───┤ ░ ├───┤ ░ ├───┤ ░ ├───┤ ░ ├───┤ ░ ├───┤ ░ ├───┤ ░ ├───┤ ░ ├───┤»\n",
       "« q9_1: ┤ X ├─░─┤ X ├─░─┤ X ├─░─┤ X ├─░─┤ X ├─░─┤ X ├─░─┤ X ├─░─┤ X ├─░─┤ X ├»\n",
       "«       └───┘ ░ └───┘ ░ └───┘ ░ └───┘ ░ └───┘ ░ └───┘ ░ └───┘ ░ └───┘ ░ └───┘»\n",
       "«c10_0: ═════════════════════════════════════════════════════════════════════»\n",
       "«                                                                            »\n",
       "«c10_1: ═════════════════════════════════════════════════════════════════════»\n",
       "«                                                                            »\n",
       "«        ░ ┌───┐ ░ ┌───┐ ░ ┌───┐ ░ ┌───┐ ░ ┌───┐ ░ ┌───┐ ░ ┌───┐ ░ ┌───┐ ░ »\n",
       "« q9_0: ─░─┤ X ├─░─┤ X ├─░─┤ X ├─░─┤ X ├─░─┤ X ├─░─┤ X ├─░─┤ X ├─░─┤ X ├─░─»\n",
       "«        ░ ├───┤ ░ ├───┤ ░ ├───┤ ░ ├───┤ ░ ├───┤ ░ ├───┤ ░ ├───┤ ░ ├───┤ ░ »\n",
       "« q9_1: ─░─┤ X ├─░─┤ X ├─░─┤ X ├─░─┤ X ├─░─┤ X ├─░─┤ X ├─░─┤ X ├─░─┤ X ├─░─»\n",
       "«        ░ └───┘ ░ └───┘ ░ └───┘ ░ └───┘ ░ └───┘ ░ └───┘ ░ └───┘ ░ └───┘ ░ »\n",
       "«c10_0: ═══════════════════════════════════════════════════════════════════»\n",
       "«                                                                          »\n",
       "«c10_1: ═══════════════════════════════════════════════════════════════════»\n",
       "«                                                                          »\n",
       "«       ┌───┐ ░ ┌───┐ ░ ┌───┐ ░ ┌───┐ ░ ┌───┐ ░ ┌───┐ ░ ┌───┐ ░ ┌───┐ ░ ┌───┐»\n",
       "« q9_0: ┤ X ├─░─┤ X ├─░─┤ X ├─░─┤ X ├─░─┤ X ├─░─┤ X ├─░─┤ X ├─░─┤ X ├─░─┤ X ├»\n",
       "«       ├───┤ ░ ├───┤ ░ ├───┤ ░ ├───┤ ░ ├───┤ ░ ├───┤ ░ ├───┤ ░ ├───┤ ░ ├───┤»\n",
       "« q9_1: ┤ X ├─░─┤ X ├─░─┤ X ├─░─┤ X ├─░─┤ X ├─░─┤ X ├─░─┤ X ├─░─┤ X ├─░─┤ X ├»\n",
       "«       └───┘ ░ └───┘ ░ └───┘ ░ └───┘ ░ └───┘ ░ └───┘ ░ └───┘ ░ └───┘ ░ └───┘»\n",
       "«c10_0: ═════════════════════════════════════════════════════════════════════»\n",
       "«                                                                            »\n",
       "«c10_1: ═════════════════════════════════════════════════════════════════════»\n",
       "«                                                                            »\n",
       "«        ░ ┌───┐ ░ ┌───┐ ░ ┌───┐ ░ ┌───┐ ░ ┌───┐ ░ ┌───┐ ░ ┌───┐ ░ ┌───┐ ░ »\n",
       "« q9_0: ─░─┤ X ├─░─┤ X ├─░─┤ X ├─░─┤ X ├─░─┤ X ├─░─┤ X ├─░─┤ X ├─░─┤ X ├─░─»\n",
       "«        ░ ├───┤ ░ ├───┤ ░ ├───┤ ░ ├───┤ ░ ├───┤ ░ ├───┤ ░ ├───┤ ░ ├───┤ ░ »\n",
       "« q9_1: ─░─┤ X ├─░─┤ X ├─░─┤ X ├─░─┤ X ├─░─┤ X ├─░─┤ X ├─░─┤ X ├─░─┤ X ├─░─»\n",
       "«        ░ └───┘ ░ └───┘ ░ └───┘ ░ └───┘ ░ └───┘ ░ └───┘ ░ └───┘ ░ └───┘ ░ »\n",
       "«c10_0: ═══════════════════════════════════════════════════════════════════»\n",
       "«                                                                          »\n",
       "«c10_1: ═══════════════════════════════════════════════════════════════════»\n",
       "«                                                                          »\n",
       "«       ┌───┐ ░ ┌───┐ ░ ┌───┐ ░ ┌───┐ ░ ┌───┐ ░ ┌───┐ ░ ┌───┐ ░ ┌───┐ ░ ┌───┐»\n",
       "« q9_0: ┤ X ├─░─┤ X ├─░─┤ X ├─░─┤ X ├─░─┤ X ├─░─┤ X ├─░─┤ X ├─░─┤ X ├─░─┤ X ├»\n",
       "«       ├───┤ ░ ├───┤ ░ ├───┤ ░ ├───┤ ░ ├───┤ ░ ├───┤ ░ ├───┤ ░ ├───┤ ░ ├───┤»\n",
       "« q9_1: ┤ X ├─░─┤ X ├─░─┤ X ├─░─┤ X ├─░─┤ X ├─░─┤ X ├─░─┤ X ├─░─┤ X ├─░─┤ X ├»\n",
       "«       └───┘ ░ └───┘ ░ └───┘ ░ └───┘ ░ └───┘ ░ └───┘ ░ └───┘ ░ └───┘ ░ └───┘»\n",
       "«c10_0: ═════════════════════════════════════════════════════════════════════»\n",
       "«                                                                            »\n",
       "«c10_1: ═════════════════════════════════════════════════════════════════════»\n",
       "«                                                                            »\n",
       "«        ░ ┌───┐ ░ ┌───┐ ░ ┌───┐ ░ ┌───┐ ░ ┌───┐ ░ ┌───┐ ░ ┌───┐ ░ ┌───┐ ░ »\n",
       "« q9_0: ─░─┤ X ├─░─┤ X ├─░─┤ X ├─░─┤ X ├─░─┤ X ├─░─┤ X ├─░─┤ X ├─░─┤ X ├─░─»\n",
       "«        ░ ├───┤ ░ ├───┤ ░ ├───┤ ░ ├───┤ ░ ├───┤ ░ ├───┤ ░ ├───┤ ░ ├───┤ ░ »\n",
       "« q9_1: ─░─┤ X ├─░─┤ X ├─░─┤ X ├─░─┤ X ├─░─┤ X ├─░─┤ X ├─░─┤ X ├─░─┤ X ├─░─»\n",
       "«        ░ └───┘ ░ └───┘ ░ └───┘ ░ └───┘ ░ └───┘ ░ └───┘ ░ └───┘ ░ └───┘ ░ »\n",
       "«c10_0: ═══════════════════════════════════════════════════════════════════»\n",
       "«                                                                          »\n",
       "«c10_1: ═══════════════════════════════════════════════════════════════════»\n",
       "«                                                                          »\n",
       "«       ┌───┐ ░ ┌───┐ ░ ┌───┐ ░ ┌───┐ ░ ┌───┐ ░ ┌───┐ ░ ┌───┐ ░ ┌───┐ ░ ┌───┐»\n",
       "« q9_0: ┤ X ├─░─┤ X ├─░─┤ X ├─░─┤ X ├─░─┤ X ├─░─┤ X ├─░─┤ X ├─░─┤ X ├─░─┤ X ├»\n",
       "«       ├───┤ ░ ├───┤ ░ ├───┤ ░ ├───┤ ░ ├───┤ ░ ├───┤ ░ ├───┤ ░ ├───┤ ░ ├───┤»\n",
       "« q9_1: ┤ X ├─░─┤ X ├─░─┤ X ├─░─┤ X ├─░─┤ X ├─░─┤ X ├─░─┤ X ├─░─┤ X ├─░─┤ X ├»\n",
       "«       └───┘ ░ └───┘ ░ └───┘ ░ └───┘ ░ └───┘ ░ └───┘ ░ └───┘ ░ └───┘ ░ └───┘»\n",
       "«c10_0: ═════════════════════════════════════════════════════════════════════»\n",
       "«                                                                            »\n",
       "«c10_1: ═════════════════════════════════════════════════════════════════════»\n",
       "«                                                                            »\n",
       "«        ░ ┌───┐ ░ ┌───┐ ░ ┌───┐ ░ ┌───┐ ░ ┌───┐ ░ ┌───┐ ░ ┌───┐ ░ ┌───┐ ░ »\n",
       "« q9_0: ─░─┤ X ├─░─┤ X ├─░─┤ X ├─░─┤ X ├─░─┤ X ├─░─┤ X ├─░─┤ X ├─░─┤ X ├─░─»\n",
       "«        ░ ├───┤ ░ ├───┤ ░ ├───┤ ░ ├───┤ ░ ├───┤ ░ ├───┤ ░ ├───┤ ░ ├───┤ ░ »\n",
       "« q9_1: ─░─┤ X ├─░─┤ X ├─░─┤ X ├─░─┤ X ├─░─┤ X ├─░─┤ X ├─░─┤ X ├─░─┤ X ├─░─»\n",
       "«        ░ └───┘ ░ └───┘ ░ └───┘ ░ └───┘ ░ └───┘ ░ └───┘ ░ └───┘ ░ └───┘ ░ »\n",
       "«c10_0: ═══════════════════════════════════════════════════════════════════»\n",
       "«                                                                          »\n",
       "«c10_1: ═══════════════════════════════════════════════════════════════════»\n",
       "«                                                                          »\n",
       "«       ┌───┐ ░ ┌───┐ ░ ┌───┐ ░ ┌───┐ ░ ┌───┐ ░ ┌───┐ ░ ┌───┐ ░ ┌───┐ ░ ┌───┐»\n",
       "« q9_0: ┤ X ├─░─┤ X ├─░─┤ X ├─░─┤ X ├─░─┤ X ├─░─┤ X ├─░─┤ X ├─░─┤ X ├─░─┤ X ├»\n",
       "«       ├───┤ ░ ├───┤ ░ ├───┤ ░ ├───┤ ░ ├───┤ ░ ├───┤ ░ ├───┤ ░ ├───┤ ░ ├───┤»\n",
       "« q9_1: ┤ X ├─░─┤ X ├─░─┤ X ├─░─┤ X ├─░─┤ X ├─░─┤ X ├─░─┤ X ├─░─┤ X ├─░─┤ X ├»\n",
       "«       └───┘ ░ └───┘ ░ └───┘ ░ └───┘ ░ └───┘ ░ └───┘ ░ └───┘ ░ └───┘ ░ └───┘»\n",
       "«c10_0: ═════════════════════════════════════════════════════════════════════»\n",
       "«                                                                            »\n",
       "«c10_1: ═════════════════════════════════════════════════════════════════════»\n",
       "«                                                                            »\n",
       "«        ░ ┌───┐ ░ ┌───┐ ░ ┌───┐ ░ ┌───┐ ░ ┌───┐ ░ ┌───┐ ░ ┌───┐ ░ ┌───┐ ░ ┌─┐»\n",
       "« q9_0: ─░─┤ X ├─░─┤ X ├─░─┤ X ├─░─┤ X ├─░─┤ X ├─░─┤ X ├─░─┤ X ├─░─┤ X ├─░─┤M├»\n",
       "«        ░ ├───┤ ░ ├───┤ ░ ├───┤ ░ ├───┤ ░ ├───┤ ░ ├───┤ ░ ├───┤ ░ ├───┤ ░ └╥┘»\n",
       "« q9_1: ─░─┤ X ├─░─┤ X ├─░─┤ X ├─░─┤ X ├─░─┤ X ├─░─┤ X ├─░─┤ X ├─░─┤ X ├─░──╫─»\n",
       "«        ░ └───┘ ░ └───┘ ░ └───┘ ░ └───┘ ░ └───┘ ░ └───┘ ░ └───┘ ░ └───┘ ░  ║ »\n",
       "«c10_0: ════════════════════════════════════════════════════════════════════╩═»\n",
       "«                                                                             »\n",
       "«c10_1: ══════════════════════════════════════════════════════════════════════»\n",
       "«                                                                             »\n",
       "«          \n",
       "« q9_0: ───\n",
       "«       ┌─┐\n",
       "« q9_1: ┤M├\n",
       "«       └╥┘\n",
       "«c10_0: ═╬═\n",
       "«        ║ \n",
       "«c10_1: ═╩═\n",
       "«          </pre>"
      ],
      "text/plain": [
       "<qiskit.visualization.text.TextDrawing at 0x1316b9828>"
      ]
     },
     "execution_count": 67,
     "metadata": {},
     "output_type": "execute_result"
    }
   ],
   "source": [
    "x_circs[-1].draw()"
   ]
  },
  {
   "cell_type": "code",
   "execution_count": 88,
   "metadata": {},
   "outputs": [],
   "source": [
    "gate_times = [\n",
    "    ('u1', None, 0), ('u2', None, 100), ('u3', None, 200),\n",
    "    ('cx', [1, 0], 678), ('cx', [1, 2], 547), ('cx', [2, 3], 721),\n",
    "    ('cx', [4, 3], 733), ('cx', [4, 10], 721), ('cx', [5, 4], 800),\n",
    "    ('cx', [5, 6], 800), ('cx', [5, 9], 895), ('cx', [6, 8], 895),\n",
    "    ('cx', [7, 8], 640), ('cx', [9, 8], 895), ('cx', [9, 10], 800),\n",
    "    ('cx', [11, 10], 721), ('cx', [11, 3], 634), ('cx', [12, 2], 773),\n",
    "    ('cx', [13, 1], 2286), ('cx', [13, 12], 1504), ('cx', [], 800)\n",
    "]\n",
    "\n",
    "properties = backend.properties()\n",
    "\n",
    "configuration = backend.configuration()\n",
    "\n",
    "noise_model = noise.device.basic_device_noise_model(properties, gate_times=gate_times)"
   ]
  },
  {
   "cell_type": "code",
   "execution_count": 72,
   "metadata": {},
   "outputs": [],
   "source": [
    "cx_ideal_result = execute(cx_circs, backend_sim, initial_layout=list(range(14))).result()\n",
    "cx_noisy_result = execute(cx_circs, backend_sim, initial_layout=list(range(14)), noise_model=noise_model,\n",
    "                          coupling_map=configuration.coupling_map,\n",
    "                          basis_gates=configuration.basis_gates).result()\n",
    "cx_melbourne_result = execute(cx_circs, backend, initial_layout=list(range(14))).result()"
   ]
  },
  {
   "cell_type": "code",
   "execution_count": 71,
   "metadata": {},
   "outputs": [],
   "source": [
    "x_ideal_result = execute(x_circs, backend_sim, initial_layout=list(range(14))).result()\n",
    "x_noisy_result = execute(x_circs, backend_sim, initial_layout=list(range(14)), noise_model=noise_model,\n",
    "                          coupling_map=configuration.coupling_map,\n",
    "                          basis_gates=configuration.basis_gates).result()\n",
    "x_melbourne_result = execute(x_circs, backend, initial_layout=list(range(14))).result()"
   ]
  },
  {
   "cell_type": "code",
   "execution_count": 97,
   "metadata": {},
   "outputs": [],
   "source": [
    "cx_device_kl_divergences = []\n",
    "cx_noisy_kl_divergences = []\n",
    "for circ in cx_circs:\n",
    "    cx_noisy_kl_divergences.append(kl_divergence_counts(cx_ideal_result.get_counts(circ), cx_noisy_result.get_counts(circ)))\n",
    "    cx_device_kl_divergences.append(kl_divergence_counts(cx_ideal_result.get_counts(circ), cx_melbourne_result.get_counts(circ)))"
   ]
  },
  {
   "cell_type": "code",
   "execution_count": 98,
   "metadata": {},
   "outputs": [],
   "source": [
    "x_device_kl_divergences = []\n",
    "x_noisy_kl_divergences = []\n",
    "for circ in x_circs:\n",
    "    x_noisy_kl_divergences.append(kl_divergence_counts(x_ideal_result.get_counts(circ), x_noisy_result.get_counts(circ)))\n",
    "    x_device_kl_divergences.append(kl_divergence_counts(x_ideal_result.get_counts(circ), x_melbourne_result.get_counts(circ)))"
   ]
  },
  {
   "cell_type": "code",
   "execution_count": 106,
   "metadata": {},
   "outputs": [
    {
     "data": {
      "text/plain": [
       "Text(0, 0.5, 'KL Divergence')"
      ]
     },
     "execution_count": 106,
     "metadata": {},
     "output_type": "execute_result"
    },
    {
     "data": {
      "image/png": "[encoded data removed]",
      "text/plain": [
       "<Figure size 432x288 with 1 Axes>"
      ]
     },
     "metadata": {
      "needs_background": "light"
     },
     "output_type": "display_data"
    }
   ],
   "source": [
    "plt.plot(cx_times, np.asarray(cx_device_kl_divergences)*-1, label='cx', color='red')\n",
    "plt.plot(x_times, np.asarray(x_device_kl_divergences)*-1, label='x', color='blue')\n",
    "plt.plot(cx_times, np.asarray(cx_noisy_kl_divergences)*-1, label='cx', linestyle='--', color='red')\n",
    "plt.plot(x_times, np.asarray(x_noisy_kl_divergences)*-1, label='x', linestyle='--', color='blue')\n",
    "plt.xlabel('time (ns)')\n",
    "plt.ylabel('KL Divergence')"
   ]
  },
  {
   "cell_type": "code",
   "execution_count": 107,
   "metadata": {},
   "outputs": [
    {
     "data": {
      "text/plain": [
       "Text(0, 0.5, 'KL Divergence')"
      ]
     },
     "execution_count": 107,
     "metadata": {},
     "output_type": "execute_result"
    },
    {
     "data": {
      "image/png": "[encoded data removed]",
      "text/plain": [
       "<Figure size 432x288 with 1 Axes>"
      ]
     },
     "metadata": {
      "needs_background": "light"
     },
     "output_type": "display_data"
    }
   ],
   "source": [
    "plt.plot(np.asarray(cx_device_kl_divergences)*-1, label='cx', color='red')\n",
    "plt.plot(np.asarray(x_device_kl_divergences)*-1, label='x', color='blue')\n",
    "plt.plot(np.asarray(cx_noisy_kl_divergences)*-1, label='cx', linestyle='--', color='red')\n",
    "plt.plot(np.asarray(x_noisy_kl_divergences)*-1, label='x', linestyle='--', color='blue')\n",
    "plt.xlabel('gates')\n",
    "plt.ylabel('KL Divergence')"
   ]
  },
  {
   "cell_type": "code",
   "execution_count": 47,
   "metadata": {
    "solution": "hidden"
   },
   "outputs": [
    {
     "data": {
      "text/plain": [
       "0.11269272959336073"
      ]
     },
     "execution_count": 47,
     "metadata": {},
     "output_type": "execute_result"
    }
   ],
   "source": [
    "kl_divergence_counts(result.get_counts(bellZZ), melbourne_result.get_counts(bellZZ))"
   ]
  },
  {
   "cell_type": "markdown",
   "metadata": {
    "solution": "hidden"
   },
   "source": [
    "Here we only have access to the expectation values of the prepared state. We would have to do something more detailed such as quantum state tomography to learn the actually prepared quantum state."
   ]
  }
 ],
 "metadata": {
  "kernelspec": {
   "display_name": "Python 3",
   "language": "python",
   "name": "python3"
  },
  "language_info": {
   "codemirror_mode": {
    "name": "ipython",
    "version": 3
   },
   "file_extension": ".py",
   "mimetype": "text/x-python",
   "name": "python",
   "nbconvert_exporter": "python",
   "pygments_lexer": "ipython3",
   "version": "3.7.3"
  }
 },
 "nbformat": 4,
 "nbformat_minor": 2
}
