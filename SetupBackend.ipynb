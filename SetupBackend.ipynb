{
 "cells": [
  {
   "cell_type": "markdown",
   "metadata": {},
   "source": [
    "<img src=\"../../images/qiskit-heading.gif\" alt=\"Note: In order for images to show up in this jupyter notebook you need to select File => Trusted Notebook\" width=\"500 px\" align=\"left\">"
   ]
  },
  {
   "cell_type": "markdown",
   "metadata": {},
   "source": [
    "# IBMQ Provider"
   ]
  },
  {
   "cell_type": "markdown",
   "metadata": {},
   "source": [
    "To talk to an IBM quantum computer you must first install credentials that will allow you to access the device through the *IBMQ* `Provider`. \n",
    "\n",
    "Provider's implement an opensource interface for quantum computers and provide handles to `Backend`s which allow you to submit your quantum experiments directly to the device. This means that if you had your own personal quantum computer in your lab, you too could use Qiskit and avoid reinventing the wheel.\n",
    "\n",
    "For more information, see our [opensource specification](https://arxiv.org/abs/1809.03452).\n",
    "\n",
    "First we import our IBMQ provider from Qiskit"
   ]
  },
  {
   "cell_type": "code",
   "execution_count": 23,
   "metadata": {},
   "outputs": [],
   "source": [
    "from qiskit import IBMQ\n",
    "from qiskit.tools.jupyter import *"
   ]
  },
  {
   "cell_type": "markdown",
   "metadata": {},
   "source": [
    "Next you will add the credentials provided by us and save them with the provider. The credentials are for our public quantum experience devices and consist of a secret *token* and a *url*. These will provide dedicated access to *ibmq_16_melbourne* which is a 16-qubit quantum computer."
   ]
  },
  {
   "cell_type": "code",
   "execution_count": 24,
   "metadata": {},
   "outputs": [],
   "source": [
    "IBMQ.active_accounts()\n",
    "IBMQ.delete_accounts()"
   ]
  },
  {
   "cell_type": "code",
   "execution_count": 25,
   "metadata": {},
   "outputs": [
    {
     "name": "stderr",
     "output_type": "stream",
     "text": [
      "C:\\Users\\aorfi\\Anaconda3\\lib\\site-packages\\qiskit\\providers\\ibmq\\ibmqprovider.py:272: UserWarning: Credentials are already in use.\n",
      "  warnings.warn('Credentials are already in use.')\n"
     ]
    }
   ],
   "source": [
    "\n",
    "token = '85c803accc9dd892e60ff645952740918526cc56a605b9c880ff40cac7a731a7d5b25c1804dbf97fecf5252de8388cdbad5305a80cae9b5bdbb3f30a5609c2f2'\n",
    "url = 'https://api-qcon.quantum-computing.ibm.com/api/Hubs/ibm-q/Groups/open/Projects/main'\n",
    "\n",
    "IBMQ.save_account(token, url)\n",
    "IBMQ.load_accounts()"
   ]
  },
  {
   "cell_type": "markdown",
   "metadata": {},
   "source": [
    "Now that we have saved our credentials, we can see the devices that are available to us."
   ]
  },
  {
   "cell_type": "code",
   "execution_count": 26,
   "metadata": {},
   "outputs": [
    {
     "data": {
      "text/plain": [
       "[<IBMQSimulator('ibmq_qasm_simulator') from IBMQ(ibm-q, open, main)>,\n",
       " <IBMQBackend('ibmqx4') from IBMQ(ibm-q, open, main)>,\n",
       " <IBMQBackend('ibmqx2') from IBMQ(ibm-q, open, main)>,\n",
       " <IBMQBackend('ibmq_16_melbourne') from IBMQ(ibm-q, open, main)>]"
      ]
     },
     "execution_count": 26,
     "metadata": {},
     "output_type": "execute_result"
    }
   ],
   "source": [
    "IBMQ.backends()"
   ]
  },
  {
   "cell_type": "markdown",
   "metadata": {},
   "source": [
    "We have a three quantum devices and a high-performance cloud-hosted quantum simulator, for your quantum computing simulation needs.\n",
    "\n",
    "We will have dedicated access to *ibmq_16_melbourne* for today's tutorial, so we will use this device. We can easily access a handle to the backend:"
   ]
  },
  {
   "cell_type": "code",
   "execution_count": 27,
   "metadata": {},
   "outputs": [],
   "source": [
    "backend = IBMQ.get_backend('ibmq_16_melbourne')"
   ]
  },
  {
   "cell_type": "markdown",
   "metadata": {},
   "source": [
    "## Configuration"
   ]
  },
  {
   "cell_type": "markdown",
   "metadata": {},
   "source": [
    "The backend provides access to its configuration information"
   ]
  },
  {
   "cell_type": "code",
   "execution_count": 28,
   "metadata": {},
   "outputs": [],
   "source": [
    "config = backend.configuration()"
   ]
  },
  {
   "cell_type": "markdown",
   "metadata": {},
   "source": [
    "Such as "
   ]
  },
  {
   "cell_type": "code",
   "execution_count": 29,
   "metadata": {},
   "outputs": [
    {
     "data": {
      "text/plain": [
       "'ibmq_16_melbourne'"
      ]
     },
     "execution_count": 29,
     "metadata": {},
     "output_type": "execute_result"
    }
   ],
   "source": [
    "config.backend_name"
   ]
  },
  {
   "cell_type": "code",
   "execution_count": 30,
   "metadata": {},
   "outputs": [
    {
     "data": {
      "text/plain": [
       "'14 qubit device'"
      ]
     },
     "execution_count": 30,
     "metadata": {},
     "output_type": "execute_result"
    }
   ],
   "source": [
    "config.description"
   ]
  },
  {
   "cell_type": "code",
   "execution_count": 31,
   "metadata": {},
   "outputs": [
    {
     "data": {
      "text/plain": [
       "14"
      ]
     },
     "execution_count": 31,
     "metadata": {},
     "output_type": "execute_result"
    }
   ],
   "source": [
    "config.n_qubits"
   ]
  },
  {
   "cell_type": "code",
   "execution_count": 32,
   "metadata": {},
   "outputs": [
    {
     "data": {
      "text/plain": [
       "75"
      ]
     },
     "execution_count": 32,
     "metadata": {},
     "output_type": "execute_result"
    }
   ],
   "source": [
    "config.max_experiments"
   ]
  },
  {
   "cell_type": "code",
   "execution_count": 33,
   "metadata": {},
   "outputs": [
    {
     "data": {
      "text/plain": [
       "8192"
      ]
     },
     "execution_count": 33,
     "metadata": {},
     "output_type": "execute_result"
    }
   ],
   "source": [
    "config.max_shots"
   ]
  },
  {
   "cell_type": "markdown",
   "metadata": {},
   "source": [
    "The coupling map tells us which qubits are coupled together. It is directional."
   ]
  },
  {
   "cell_type": "code",
   "execution_count": 34,
   "metadata": {},
   "outputs": [
    {
     "data": {
      "text/plain": [
       "[[1, 0],\n",
       " [1, 2],\n",
       " [2, 3],\n",
       " [4, 3],\n",
       " [4, 10],\n",
       " [5, 4],\n",
       " [5, 6],\n",
       " [5, 9],\n",
       " [6, 8],\n",
       " [7, 8],\n",
       " [9, 8],\n",
       " [9, 10],\n",
       " [11, 3],\n",
       " [11, 10],\n",
       " [11, 12],\n",
       " [12, 2],\n",
       " [13, 1],\n",
       " [13, 12]]"
      ]
     },
     "execution_count": 34,
     "metadata": {},
     "output_type": "execute_result"
    }
   ],
   "source": [
    "config.coupling_map"
   ]
  },
  {
   "cell_type": "code",
   "execution_count": 35,
   "metadata": {},
   "outputs": [
    {
     "data": {
      "text/plain": [
       "['u1', 'u2', 'u3', 'cx', 'id']"
      ]
     },
     "execution_count": 35,
     "metadata": {},
     "output_type": "execute_result"
    }
   ],
   "source": [
    "config.basis_gates"
   ]
  },
  {
   "cell_type": "markdown",
   "metadata": {},
   "source": [
    "## Properties"
   ]
  },
  {
   "cell_type": "markdown",
   "metadata": {},
   "source": [
    "The backend also provides information on the device itself taken from the last calibration. Devices are periodically calibrated."
   ]
  },
  {
   "cell_type": "code",
   "execution_count": 36,
   "metadata": {},
   "outputs": [],
   "source": [
    "properties = backend.properties()"
   ]
  },
  {
   "cell_type": "markdown",
   "metadata": {},
   "source": [
    "Which has information on the quality of the qubits and gates"
   ]
  },
  {
   "cell_type": "code",
   "execution_count": 38,
   "metadata": {
    "scrolled": true
   },
   "outputs": [
    {
     "data": {
      "text/plain": [
       "[[Nduv(date=datetime.datetime(2019, 6, 4, 6, 32, 2, tzinfo=tzutc()), name='T1', unit='µs', value=75.52131707444323),\n",
       "  Nduv(date=datetime.datetime(2019, 6, 4, 6, 33, 16, tzinfo=tzutc()), name='T2', unit='µs', value=24.30497516487978),\n",
       "  Nduv(date=datetime.datetime(2019, 6, 4, 8, 41, 1, tzinfo=tzutc()), name='frequency', unit='GHz', value=5.100237119625593),\n",
       "  Nduv(date=datetime.datetime(2019, 6, 4, 6, 31, 29, tzinfo=tzutc()), name='readout_error', unit='', value=0.02180000000000004)],\n",
       " [Nduv(date=datetime.datetime(2019, 6, 4, 6, 32, 2, tzinfo=tzutc()), name='T1', unit='µs', value=59.35681638883786),\n",
       "  Nduv(date=datetime.datetime(2019, 6, 4, 6, 34, 17, tzinfo=tzutc()), name='T2', unit='µs', value=112.68697841892904),\n",
       "  Nduv(date=datetime.datetime(2019, 6, 4, 8, 41, 1, tzinfo=tzutc()), name='frequency', unit='GHz', value=5.238529369084239),\n",
       "  Nduv(date=datetime.datetime(2019, 6, 4, 6, 31, 29, tzinfo=tzutc()), name='readout_error', unit='', value=0.06980000000000008)],\n",
       " [Nduv(date=datetime.datetime(2019, 6, 4, 6, 32, 2, tzinfo=tzutc()), name='T1', unit='µs', value=76.36067460608261),\n",
       "  Nduv(date=datetime.datetime(2019, 6, 4, 6, 35, 17, tzinfo=tzutc()), name='T2', unit='µs', value=117.12865555721778),\n",
       "  Nduv(date=datetime.datetime(2019, 6, 4, 8, 41, 1, tzinfo=tzutc()), name='frequency', unit='GHz', value=5.032912795641603),\n",
       "  Nduv(date=datetime.datetime(2019, 6, 4, 6, 31, 29, tzinfo=tzutc()), name='readout_error', unit='', value=0.04190000000000005)],\n",
       " [Nduv(date=datetime.datetime(2019, 6, 3, 6, 28, 48, tzinfo=tzutc()), name='T1', unit='µs', value=88.84624273836201),\n",
       "  Nduv(date=datetime.datetime(2019, 6, 4, 6, 36, 20, tzinfo=tzutc()), name='T2', unit='µs', value=34.62891296517897),\n",
       "  Nduv(date=datetime.datetime(2019, 6, 4, 8, 41, 1, tzinfo=tzutc()), name='frequency', unit='GHz', value=4.896165121837424),\n",
       "  Nduv(date=datetime.datetime(2019, 6, 4, 6, 31, 29, tzinfo=tzutc()), name='readout_error', unit='', value=0.23909999999999998)],\n",
       " [Nduv(date=datetime.datetime(2019, 6, 4, 6, 32, 2, tzinfo=tzutc()), name='T1', unit='µs', value=55.98002403301423),\n",
       "  Nduv(date=datetime.datetime(2019, 6, 4, 6, 33, 16, tzinfo=tzutc()), name='T2', unit='µs', value=29.81394877176268),\n",
       "  Nduv(date=datetime.datetime(2019, 6, 4, 8, 41, 1, tzinfo=tzutc()), name='frequency', unit='GHz', value=5.026443826854546),\n",
       "  Nduv(date=datetime.datetime(2019, 6, 4, 6, 31, 29, tzinfo=tzutc()), name='readout_error', unit='', value=0.04459999999999997)],\n",
       " [Nduv(date=datetime.datetime(2019, 6, 4, 6, 32, 2, tzinfo=tzutc()), name='T1', unit='µs', value=26.34526078341999),\n",
       "  Nduv(date=datetime.datetime(2019, 6, 4, 6, 34, 17, tzinfo=tzutc()), name='T2', unit='µs', value=53.40124179747493),\n",
       "  Nduv(date=datetime.datetime(2019, 6, 4, 8, 41, 1, tzinfo=tzutc()), name='frequency', unit='GHz', value=5.0673156221653946),\n",
       "  Nduv(date=datetime.datetime(2019, 6, 4, 6, 31, 29, tzinfo=tzutc()), name='readout_error', unit='', value=0.060899999999999954)],\n",
       " [Nduv(date=datetime.datetime(2019, 6, 4, 6, 32, 2, tzinfo=tzutc()), name='T1', unit='µs', value=87.46318248435027),\n",
       "  Nduv(date=datetime.datetime(2019, 6, 4, 6, 35, 17, tzinfo=tzutc()), name='T2', unit='µs', value=71.46384784339752),\n",
       "  Nduv(date=datetime.datetime(2019, 6, 4, 8, 41, 1, tzinfo=tzutc()), name='frequency', unit='GHz', value=4.9238620680620615),\n",
       "  Nduv(date=datetime.datetime(2019, 6, 4, 6, 31, 29, tzinfo=tzutc()), name='readout_error', unit='', value=0.038000000000000034)],\n",
       " [Nduv(date=datetime.datetime(2019, 6, 4, 6, 32, 2, tzinfo=tzutc()), name='T1', unit='µs', value=45.79556031930237),\n",
       "  Nduv(date=datetime.datetime(2019, 6, 4, 6, 36, 20, tzinfo=tzutc()), name='T2', unit='µs', value=68.13264099637307),\n",
       "  Nduv(date=datetime.datetime(2019, 6, 4, 8, 41, 1, tzinfo=tzutc()), name='frequency', unit='GHz', value=4.974482889934504),\n",
       "  Nduv(date=datetime.datetime(2019, 6, 4, 6, 31, 29, tzinfo=tzutc()), name='readout_error', unit='', value=0.17409999999999992)],\n",
       " [Nduv(date=datetime.datetime(2019, 6, 3, 6, 28, 48, tzinfo=tzutc()), name='T1', unit='µs', value=98.02598607126694),\n",
       "  Nduv(date=datetime.datetime(2019, 6, 4, 6, 33, 16, tzinfo=tzutc()), name='T2', unit='µs', value=121.91358605854911),\n",
       "  Nduv(date=datetime.datetime(2019, 6, 4, 8, 41, 1, tzinfo=tzutc()), name='frequency', unit='GHz', value=4.73778951011439),\n",
       "  Nduv(date=datetime.datetime(2019, 6, 4, 6, 31, 29, tzinfo=tzutc()), name='readout_error', unit='', value=0.055300000000000016)],\n",
       " [Nduv(date=datetime.datetime(2019, 6, 4, 6, 32, 2, tzinfo=tzutc()), name='T1', unit='µs', value=47.48644345558208),\n",
       "  Nduv(date=datetime.datetime(2019, 6, 4, 6, 35, 17, tzinfo=tzutc()), name='T2', unit='µs', value=86.31954731321224),\n",
       "  Nduv(date=datetime.datetime(2019, 6, 4, 8, 41, 1, tzinfo=tzutc()), name='frequency', unit='GHz', value=4.963453725472253),\n",
       "  Nduv(date=datetime.datetime(2019, 6, 4, 6, 31, 29, tzinfo=tzutc()), name='readout_error', unit='', value=0.026799999999999935)],\n",
       " [Nduv(date=datetime.datetime(2019, 6, 4, 6, 32, 2, tzinfo=tzutc()), name='T1', unit='µs', value=60.19813928989633),\n",
       "  Nduv(date=datetime.datetime(2019, 6, 4, 6, 34, 17, tzinfo=tzutc()), name='T2', unit='µs', value=65.1770503031989),\n",
       "  Nduv(date=datetime.datetime(2019, 6, 4, 8, 41, 1, tzinfo=tzutc()), name='frequency', unit='GHz', value=4.94511878762754),\n",
       "  Nduv(date=datetime.datetime(2019, 6, 4, 6, 31, 29, tzinfo=tzutc()), name='readout_error', unit='', value=0.0645)],\n",
       " [Nduv(date=datetime.datetime(2019, 6, 4, 6, 32, 2, tzinfo=tzutc()), name='T1', unit='µs', value=51.38682172539514),\n",
       "  Nduv(date=datetime.datetime(2019, 5, 6, 6, 33, 40, tzinfo=tzutc()), name='T2', unit='µs', value=102.03409167196693),\n",
       "  Nduv(date=datetime.datetime(2019, 6, 4, 8, 41, 1, tzinfo=tzutc()), name='frequency', unit='GHz', value=4.996813095693476),\n",
       "  Nduv(date=datetime.datetime(2019, 6, 4, 6, 31, 29, tzinfo=tzutc()), name='readout_error', unit='', value=0.33309999999999995)],\n",
       " [Nduv(date=datetime.datetime(2019, 6, 4, 6, 32, 2, tzinfo=tzutc()), name='T1', unit='µs', value=100.01418113162572),\n",
       "  Nduv(date=datetime.datetime(2019, 6, 4, 6, 34, 17, tzinfo=tzutc()), name='T2', unit='µs', value=141.25359431646248),\n",
       "  Nduv(date=datetime.datetime(2019, 6, 4, 8, 41, 1, tzinfo=tzutc()), name='frequency', unit='GHz', value=4.760066159480226),\n",
       "  Nduv(date=datetime.datetime(2019, 6, 4, 6, 31, 29, tzinfo=tzutc()), name='readout_error', unit='', value=0.11139999999999994)],\n",
       " [Nduv(date=datetime.datetime(2019, 6, 4, 6, 32, 2, tzinfo=tzutc()), name='T1', unit='µs', value=30.44995540440088),\n",
       "  Nduv(date=datetime.datetime(2019, 6, 4, 6, 33, 16, tzinfo=tzutc()), name='T2', unit='µs', value=55.938068338304596),\n",
       "  Nduv(date=datetime.datetime(2019, 6, 4, 8, 41, 1, tzinfo=tzutc()), name='frequency', unit='GHz', value=4.968466438279261),\n",
       "  Nduv(date=datetime.datetime(2019, 6, 4, 6, 31, 29, tzinfo=tzutc()), name='readout_error', unit='', value=0.0363)]]"
      ]
     },
     "execution_count": 38,
     "metadata": {},
     "output_type": "execute_result"
    }
   ],
   "source": [
    "properties.qubits"
   ]
  },
  {
   "cell_type": "code",
   "execution_count": 39,
   "metadata": {},
   "outputs": [
    {
     "data": {
      "text/plain": [
       "[Gate(gate='u1', parameters=[Nduv(date=datetime.datetime(2019, 6, 4, 6, 37, 17, tzinfo=tzutc()), name='gate_error', unit='', value=0.0)], qubits=[0]),\n",
       " Gate(gate='u2', parameters=[Nduv(date=datetime.datetime(2019, 6, 4, 6, 37, 17, tzinfo=tzutc()), name='gate_error', unit='', value=0.002188080414918525)], qubits=[0]),\n",
       " Gate(gate='u3', parameters=[Nduv(date=datetime.datetime(2019, 6, 4, 6, 37, 17, tzinfo=tzutc()), name='gate_error', unit='', value=0.00437616082983705)], qubits=[0]),\n",
       " Gate(gate='u1', parameters=[Nduv(date=datetime.datetime(2019, 6, 4, 6, 37, 17, tzinfo=tzutc()), name='gate_error', unit='', value=0.0)], qubits=[1]),\n",
       " Gate(gate='u2', parameters=[Nduv(date=datetime.datetime(2019, 6, 4, 6, 37, 17, tzinfo=tzutc()), name='gate_error', unit='', value=0.007112547466463726)], qubits=[1]),\n",
       " Gate(gate='u3', parameters=[Nduv(date=datetime.datetime(2019, 6, 4, 6, 37, 17, tzinfo=tzutc()), name='gate_error', unit='', value=0.014225094932927451)], qubits=[1]),\n",
       " Gate(gate='u1', parameters=[Nduv(date=datetime.datetime(2019, 6, 4, 6, 37, 17, tzinfo=tzutc()), name='gate_error', unit='', value=0.0)], qubits=[2]),\n",
       " Gate(gate='u2', parameters=[Nduv(date=datetime.datetime(2019, 6, 4, 6, 37, 17, tzinfo=tzutc()), name='gate_error', unit='', value=0.004578082581478904)], qubits=[2]),\n",
       " Gate(gate='u3', parameters=[Nduv(date=datetime.datetime(2019, 6, 4, 6, 37, 17, tzinfo=tzutc()), name='gate_error', unit='', value=0.009156165162957808)], qubits=[2]),\n",
       " Gate(gate='u1', parameters=[Nduv(date=datetime.datetime(2019, 6, 4, 6, 37, 17, tzinfo=tzutc()), name='gate_error', unit='', value=0.0)], qubits=[3]),\n",
       " Gate(gate='u2', parameters=[Nduv(date=datetime.datetime(2019, 6, 4, 6, 37, 17, tzinfo=tzutc()), name='gate_error', unit='', value=0.0020086958427721346)], qubits=[3]),\n",
       " Gate(gate='u3', parameters=[Nduv(date=datetime.datetime(2019, 6, 4, 6, 37, 17, tzinfo=tzutc()), name='gate_error', unit='', value=0.004017391685544269)], qubits=[3]),\n",
       " Gate(gate='u1', parameters=[Nduv(date=datetime.datetime(2019, 6, 4, 6, 37, 17, tzinfo=tzutc()), name='gate_error', unit='', value=0.0)], qubits=[4]),\n",
       " Gate(gate='u2', parameters=[Nduv(date=datetime.datetime(2019, 6, 4, 6, 37, 17, tzinfo=tzutc()), name='gate_error', unit='', value=0.0025125920298026405)], qubits=[4]),\n",
       " Gate(gate='u3', parameters=[Nduv(date=datetime.datetime(2019, 6, 4, 6, 37, 17, tzinfo=tzutc()), name='gate_error', unit='', value=0.005025184059605281)], qubits=[4]),\n",
       " Gate(gate='u1', parameters=[Nduv(date=datetime.datetime(2019, 6, 4, 6, 37, 17, tzinfo=tzutc()), name='gate_error', unit='', value=0.0)], qubits=[5]),\n",
       " Gate(gate='u2', parameters=[Nduv(date=datetime.datetime(2019, 6, 4, 6, 37, 17, tzinfo=tzutc()), name='gate_error', unit='', value=0.002525000274235578)], qubits=[5]),\n",
       " Gate(gate='u3', parameters=[Nduv(date=datetime.datetime(2019, 6, 4, 6, 37, 17, tzinfo=tzutc()), name='gate_error', unit='', value=0.005050000548471156)], qubits=[5]),\n",
       " Gate(gate='u1', parameters=[Nduv(date=datetime.datetime(2019, 6, 4, 6, 37, 17, tzinfo=tzutc()), name='gate_error', unit='', value=0.0)], qubits=[6]),\n",
       " Gate(gate='u2', parameters=[Nduv(date=datetime.datetime(2019, 6, 4, 6, 37, 17, tzinfo=tzutc()), name='gate_error', unit='', value=0.001514254503205248)], qubits=[6]),\n",
       " Gate(gate='u3', parameters=[Nduv(date=datetime.datetime(2019, 6, 4, 6, 37, 17, tzinfo=tzutc()), name='gate_error', unit='', value=0.003028509006410496)], qubits=[6]),\n",
       " Gate(gate='u1', parameters=[Nduv(date=datetime.datetime(2019, 6, 4, 6, 37, 17, tzinfo=tzutc()), name='gate_error', unit='', value=0.0)], qubits=[7]),\n",
       " Gate(gate='u2', parameters=[Nduv(date=datetime.datetime(2019, 6, 4, 6, 37, 17, tzinfo=tzutc()), name='gate_error', unit='', value=0.0015785852139601486)], qubits=[7]),\n",
       " Gate(gate='u3', parameters=[Nduv(date=datetime.datetime(2019, 6, 4, 6, 37, 17, tzinfo=tzutc()), name='gate_error', unit='', value=0.0031571704279202972)], qubits=[7]),\n",
       " Gate(gate='u1', parameters=[Nduv(date=datetime.datetime(2019, 6, 4, 6, 37, 17, tzinfo=tzutc()), name='gate_error', unit='', value=0.0)], qubits=[8]),\n",
       " Gate(gate='u2', parameters=[Nduv(date=datetime.datetime(2019, 6, 4, 6, 37, 17, tzinfo=tzutc()), name='gate_error', unit='', value=0.0018303434034037114)], qubits=[8]),\n",
       " Gate(gate='u3', parameters=[Nduv(date=datetime.datetime(2019, 6, 4, 6, 37, 17, tzinfo=tzutc()), name='gate_error', unit='', value=0.0036606868068074228)], qubits=[8]),\n",
       " Gate(gate='u1', parameters=[Nduv(date=datetime.datetime(2019, 6, 4, 6, 37, 17, tzinfo=tzutc()), name='gate_error', unit='', value=0.0)], qubits=[9]),\n",
       " Gate(gate='u2', parameters=[Nduv(date=datetime.datetime(2019, 6, 4, 6, 37, 17, tzinfo=tzutc()), name='gate_error', unit='', value=0.0027348057180629493)], qubits=[9]),\n",
       " Gate(gate='u3', parameters=[Nduv(date=datetime.datetime(2019, 6, 4, 6, 37, 17, tzinfo=tzutc()), name='gate_error', unit='', value=0.0054696114361258985)], qubits=[9]),\n",
       " Gate(gate='u1', parameters=[Nduv(date=datetime.datetime(2019, 6, 4, 6, 37, 17, tzinfo=tzutc()), name='gate_error', unit='', value=0.0)], qubits=[10]),\n",
       " Gate(gate='u2', parameters=[Nduv(date=datetime.datetime(2019, 6, 4, 6, 37, 17, tzinfo=tzutc()), name='gate_error', unit='', value=0.0017326026958797702)], qubits=[10]),\n",
       " Gate(gate='u3', parameters=[Nduv(date=datetime.datetime(2019, 6, 4, 6, 37, 17, tzinfo=tzutc()), name='gate_error', unit='', value=0.0034652053917595405)], qubits=[10]),\n",
       " Gate(gate='u1', parameters=[Nduv(date=datetime.datetime(2019, 6, 4, 6, 37, 17, tzinfo=tzutc()), name='gate_error', unit='', value=0.0)], qubits=[11]),\n",
       " Gate(gate='u2', parameters=[Nduv(date=datetime.datetime(2019, 6, 4, 6, 37, 17, tzinfo=tzutc()), name='gate_error', unit='', value=0.10844713034929526)], qubits=[11]),\n",
       " Gate(gate='u3', parameters=[Nduv(date=datetime.datetime(2019, 6, 4, 6, 37, 17, tzinfo=tzutc()), name='gate_error', unit='', value=0.21689426069859052)], qubits=[11]),\n",
       " Gate(gate='u1', parameters=[Nduv(date=datetime.datetime(2019, 6, 4, 6, 37, 17, tzinfo=tzutc()), name='gate_error', unit='', value=0.0)], qubits=[12]),\n",
       " Gate(gate='u2', parameters=[Nduv(date=datetime.datetime(2019, 6, 4, 6, 37, 17, tzinfo=tzutc()), name='gate_error', unit='', value=0.003717840787216209)], qubits=[12]),\n",
       " Gate(gate='u3', parameters=[Nduv(date=datetime.datetime(2019, 6, 4, 6, 37, 17, tzinfo=tzutc()), name='gate_error', unit='', value=0.007435681574432418)], qubits=[12]),\n",
       " Gate(gate='u1', parameters=[Nduv(date=datetime.datetime(2019, 6, 4, 6, 37, 17, tzinfo=tzutc()), name='gate_error', unit='', value=0.0)], qubits=[13]),\n",
       " Gate(gate='u2', parameters=[Nduv(date=datetime.datetime(2019, 6, 4, 6, 37, 17, tzinfo=tzutc()), name='gate_error', unit='', value=0.005034741774966878)], qubits=[13]),\n",
       " Gate(gate='u3', parameters=[Nduv(date=datetime.datetime(2019, 6, 4, 6, 37, 17, tzinfo=tzutc()), name='gate_error', unit='', value=0.010069483549933755)], qubits=[13]),\n",
       " Gate(gate='cx', name='CX1_0', parameters=[Nduv(date=datetime.datetime(2019, 6, 4, 7, 40, 33, tzinfo=tzutc()), name='gate_error', unit='', value=0.03978607767465009)], qubits=[1, 0]),\n",
       " Gate(gate='cx', name='CX1_2', parameters=[Nduv(date=datetime.datetime(2019, 6, 4, 8, 41, 1, tzinfo=tzutc()), name='gate_error', unit='', value=0.04379343510672626)], qubits=[1, 2]),\n",
       " Gate(gate='cx', name='CX2_3', parameters=[Nduv(date=datetime.datetime(2019, 6, 4, 7, 43, 45, tzinfo=tzutc()), name='gate_error', unit='', value=0.05810624585665983)], qubits=[2, 3]),\n",
       " Gate(gate='cx', name='CX4_3', parameters=[Nduv(date=datetime.datetime(2019, 6, 4, 7, 47, 6, tzinfo=tzutc()), name='gate_error', unit='', value=0.03869744366646574)], qubits=[4, 3]),\n",
       " Gate(gate='cx', name='CX4_10', parameters=[Nduv(date=datetime.datetime(2019, 6, 4, 7, 50, 25, tzinfo=tzutc()), name='gate_error', unit='', value=0.03407995406603634)], qubits=[4, 10]),\n",
       " Gate(gate='cx', name='CX5_4', parameters=[Nduv(date=datetime.datetime(2019, 6, 4, 7, 53, 41, tzinfo=tzutc()), name='gate_error', unit='', value=0.04863445821885792)], qubits=[5, 4]),\n",
       " Gate(gate='cx', name='CX5_6', parameters=[Nduv(date=datetime.datetime(2019, 6, 4, 7, 57, 6, tzinfo=tzutc()), name='gate_error', unit='', value=0.0928077460430105)], qubits=[5, 6]),\n",
       " Gate(gate='cx', name='CX5_9', parameters=[Nduv(date=datetime.datetime(2019, 6, 4, 8, 1, 2, tzinfo=tzutc()), name='gate_error', unit='', value=0.07851166949359037)], qubits=[5, 9]),\n",
       " Gate(gate='cx', name='CX6_8', parameters=[Nduv(date=datetime.datetime(2019, 6, 2, 8, 1, 46, tzinfo=tzutc()), name='gate_error', unit='', value=0.040921203014915725)], qubits=[6, 8]),\n",
       " Gate(gate='cx', name='CX7_8', parameters=[Nduv(date=datetime.datetime(2019, 6, 4, 8, 8, tzinfo=tzutc()), name='gate_error', unit='', value=0.032126019743832834)], qubits=[7, 8]),\n",
       " Gate(gate='cx', name='CX9_8', parameters=[Nduv(date=datetime.datetime(2019, 6, 4, 8, 11, 11, tzinfo=tzutc()), name='gate_error', unit='', value=0.039414158042246294)], qubits=[9, 8]),\n",
       " Gate(gate='cx', name='CX9_10', parameters=[Nduv(date=datetime.datetime(2019, 6, 4, 8, 15, 13, tzinfo=tzutc()), name='gate_error', unit='', value=0.048939631016992696)], qubits=[9, 10]),\n",
       " Gate(gate='cx', name='CX11_3', parameters=[Nduv(date=datetime.datetime(2019, 5, 6, 8, 16, 19, tzinfo=tzutc()), name='gate_error', unit='', value=0.03873956484399349)], qubits=[11, 3]),\n",
       " Gate(gate='cx', name='CX11_10', parameters=[Nduv(date=datetime.datetime(2019, 5, 6, 8, 9, 49, tzinfo=tzutc()), name='gate_error', unit='', value=0.08015693590014958)], qubits=[11, 10]),\n",
       " Gate(gate='cx', name='CX11_12', parameters=[Nduv(date=datetime.datetime(2019, 5, 6, 8, 13, 6, tzinfo=tzutc()), name='gate_error', unit='', value=0.05520367311779159)], qubits=[11, 12]),\n",
       " Gate(gate='cx', name='CX12_2', parameters=[Nduv(date=datetime.datetime(2019, 6, 4, 8, 28, 31, tzinfo=tzutc()), name='gate_error', unit='', value=0.09998197306439778)], qubits=[12, 2]),\n",
       " Gate(gate='cx', name='CX13_1', parameters=[Nduv(date=datetime.datetime(2019, 6, 4, 8, 33, 6, tzinfo=tzutc()), name='gate_error', unit='', value=0.1369077261576741)], qubits=[13, 1]),\n",
       " Gate(gate='cx', name='CX13_12', parameters=[Nduv(date=datetime.datetime(2019, 6, 4, 8, 37, 8, tzinfo=tzutc()), name='gate_error', unit='', value=0.031758390449637935)], qubits=[13, 12])]"
      ]
     },
     "execution_count": 39,
     "metadata": {},
     "output_type": "execute_result"
    }
   ],
   "source": [
    "properties.gates"
   ]
  },
  {
   "cell_type": "markdown",
   "metadata": {},
   "source": [
    "We provide builtin tools to better visualize this information. See this [tutorial for more information](https://github.com/Qiskit/qiskit-tutorials/blob/master/qiskit/jupyter/jupyter_backend_tools.ipynb)."
   ]
  },
  {
   "cell_type": "code",
   "execution_count": 40,
   "metadata": {
    "scrolled": true
   },
   "outputs": [
    {
     "data": {
      "application/vnd.jupyter.widget-view+json": {
       "model_id": "55787b07ae1f496595ffc504ffd66c23",
       "version_major": 2,
       "version_minor": 0
      },
      "text/plain": [
       "VBox(children=(HTML(value=\"<h1 style='color:#ffffff;background-color:#000000;padding-top: 1%;padding-bottom: 1…"
      ]
     },
     "metadata": {},
     "output_type": "display_data"
    }
   ],
   "source": [
    "%qiskit_backend_monitor backend"
   ]
  },
  {
   "cell_type": "markdown",
   "metadata": {
    "solution": "hidden",
    "solution_first": true
   },
   "source": [
    "<span class=\"badge badge-primary\">Exercise 0.0</span> What information do you think is most relevant to describing the performance of a quantum computer?"
   ]
  },
  {
   "cell_type": "markdown",
   "metadata": {
    "solution": "hidden"
   },
   "source": [
    "This is a very nuanced question and much research is being performed on this topic. Some of the most basic properties are \n",
    "- T1: How long the qubit takes to go from its excited to ground state on average\n",
    "- T2: How long it takes for a superposition state to decay to fully mixed density matrix.\n",
    "- gate fidelity: How good the single and two qubit gates are.\n",
    "- gate time: How long do these gates take.\n",
    "- number of qubits: How many qubits do we have access too.\n",
    "- qubit coupling: How many qubits can talk to one another.\n"
   ]
  }
 ],
 "metadata": {
  "kernelspec": {
   "display_name": "Python 3",
   "language": "python",
   "name": "python3"
  },
  "language_info": {
   "codemirror_mode": {
    "name": "ipython",
    "version": 3
   },
   "file_extension": ".py",
   "mimetype": "text/x-python",
   "name": "python",
   "nbconvert_exporter": "python",
   "pygments_lexer": "ipython3",
   "version": "3.7.3"
  }
 },
 "nbformat": 4,
 "nbformat_minor": 2
}
