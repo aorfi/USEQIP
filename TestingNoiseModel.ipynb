{
 "cells": [
  {
   "cell_type": "markdown",
   "metadata": {},
   "source": [
    "<img src=\"../../images/qiskit-heading.gif\" alt=\"Note: In order for images to show up in this jupyter notebook you need to select File => Trusted Notebook\" width=\"500 px\" align=\"left\">"
   ]
  },
  {
   "cell_type": "markdown",
   "metadata": {},
   "source": [
    "# Building and Running Quantum Circuits\n",
    "\n",
    "The `QuantumCircuit`, `QuantumRegister`, and `ClassicalRegister` are the main objects for Qiskit Terra. Most users will be able to do all they want with these objects. "
   ]
  },
  {
   "cell_type": "code",
   "execution_count": 3,
   "metadata": {
    "solution": "hidden"
   },
   "outputs": [],
   "source": [
    "import numpy as np\n",
    "from qiskit import QuantumCircuit, ClassicalRegister, QuantumRegister\n",
    "from qiskit import BasicAer, Aer, IBMQ, execute\n",
    "from qiskit.visualization import plot_histogram\n",
    "from qiskit.providers.aer import noise"
   ]
  },
  {
   "cell_type": "markdown",
   "metadata": {},
   "source": [
    "## Quantum and Classical Registers\n",
    "\n",
    "Quantum and Classical Registers are declared using the following:"
   ]
  },
  {
   "cell_type": "code",
   "execution_count": 4,
   "metadata": {},
   "outputs": [],
   "source": [
    "q0 = QuantumRegister(2, 'q0')\n",
    "c0 = ClassicalRegister(2, 'c0')\n",
    "q1 = QuantumRegister(2, 'q1')\n",
    "c1 = ClassicalRegister(2, 'c1')\n",
    "q_test = QuantumRegister(2, 'q0')"
   ]
  },
  {
   "cell_type": "markdown",
   "metadata": {},
   "source": [
    "The name is optional. If not given, Qiskit will name it $qi$, where $i$ is an interger which will count from 0. The name and size can be returned using the following:"
   ]
  },
  {
   "cell_type": "code",
   "execution_count": 5,
   "metadata": {},
   "outputs": [
    {
     "name": "stdout",
     "output_type": "stream",
     "text": [
      "q0\n",
      "2\n"
     ]
    }
   ],
   "source": [
    "print(q0.name)\n",
    "print(q0.size)"
   ]
  },
  {
   "cell_type": "markdown",
   "metadata": {},
   "source": [
    "You can test if the registers are the same or different. "
   ]
  },
  {
   "cell_type": "code",
   "execution_count": 6,
   "metadata": {},
   "outputs": [
    {
     "data": {
      "text/plain": [
       "True"
      ]
     },
     "execution_count": 6,
     "metadata": {},
     "output_type": "execute_result"
    }
   ],
   "source": [
    "q0==q0"
   ]
  },
  {
   "cell_type": "code",
   "execution_count": 7,
   "metadata": {},
   "outputs": [
    {
     "data": {
      "text/plain": [
       "True"
      ]
     },
     "execution_count": 7,
     "metadata": {},
     "output_type": "execute_result"
    }
   ],
   "source": [
    "q0==q_test"
   ]
  },
  {
   "cell_type": "code",
   "execution_count": 8,
   "metadata": {},
   "outputs": [
    {
     "data": {
      "text/plain": [
       "False"
      ]
     },
     "execution_count": 8,
     "metadata": {},
     "output_type": "execute_result"
    }
   ],
   "source": [
    "q0==q1"
   ]
  },
  {
   "cell_type": "markdown",
   "metadata": {},
   "source": [
    "## Quantum Circuits\n",
    "\n",
    "Quantum Circuits are made using registers, which are created either when initiated or by using the `add_register` command. "
   ]
  },
  {
   "cell_type": "code",
   "execution_count": 9,
   "metadata": {},
   "outputs": [
    {
     "data": {
      "text/html": [
       "<pre style=\"word-wrap: normal;white-space: pre;line-height: 15px;\">              \n",
       "q0_0: |0>─────\n",
       "         ┌───┐\n",
       "q0_1: |0>┤ X ├\n",
       "         ├───┤\n",
       "q1_0: |0>┤ X ├\n",
       "         └───┘\n",
       "q1_1: |0>─────\n",
       "              </pre>"
      ],
      "text/plain": [
       "<qiskit.visualization.text.TextDrawing at 0x2805bedfc88>"
      ]
     },
     "execution_count": 9,
     "metadata": {},
     "output_type": "execute_result"
    }
   ],
   "source": [
    "circ = QuantumCircuit(q0, q1)\n",
    "circ.x(q0[1])\n",
    "circ.x(q1[0])\n",
    "circ.draw()"
   ]
  },
  {
   "cell_type": "markdown",
   "metadata": {},
   "source": [
    "is the same as "
   ]
  },
  {
   "cell_type": "code",
   "execution_count": 11,
   "metadata": {},
   "outputs": [
    {
     "data": {
      "text/html": [
       "<pre style=\"word-wrap: normal;white-space: pre;line-height: 15px;\">              \n",
       "q0_0: |0>─────\n",
       "         ┌───┐\n",
       "q0_1: |0>┤ X ├\n",
       "         ├───┤\n",
       "q1_0: |0>┤ X ├\n",
       "         └───┘\n",
       "q1_1: |0>─────\n",
       "              </pre>"
      ],
      "text/plain": [
       "<qiskit.visualization.text.TextDrawing at 0x2807501c2b0>"
      ]
     },
     "execution_count": 11,
     "metadata": {},
     "output_type": "execute_result"
    }
   ],
   "source": [
    "circ2 = QuantumCircuit()\n",
    "circ2.add_register(q0)\n",
    "circ2.add_register(q1)\n",
    "circ2.x(q0[1])\n",
    "circ2.x(q1[0])\n",
    "circ2.draw()\n"
   ]
  },
  {
   "cell_type": "markdown",
   "metadata": {},
   "source": [
    "<span class=\"badge badge-primary\">Exercise 1.0</span> Try using tab autocomplete on a `QuantumCircuit` instance such as `circ` to see the available gates and operations on a quantum circuit."
   ]
  },
  {
   "cell_type": "markdown",
   "metadata": {},
   "source": [
    "<div class=\"alert alert-block alert-info\">\n",
    "<b>Note:</b> The registers are listed in the order they are initiated or added (**not** the tensor product for quantum registers).\n",
    "</div>"
   ]
  },
  {
   "cell_type": "code",
   "execution_count": 12,
   "metadata": {},
   "outputs": [
    {
     "data": {
      "text/html": [
       "<pre style=\"word-wrap: normal;white-space: pre;line-height: 15px;\">              \n",
       "q0_0: |0>─────\n",
       "         ┌───┐\n",
       "q0_1: |0>┤ X ├\n",
       "         ├───┤\n",
       "q1_0: |0>┤ X ├\n",
       "         └───┘\n",
       "q1_1: |0>─────\n",
       "              \n",
       "q3_0: |0>─────\n",
       "              \n",
       "q3_1: |0>─────\n",
       "              </pre>"
      ],
      "text/plain": [
       "<qiskit.visualization.text.TextDrawing at 0x28074e721d0>"
      ]
     },
     "execution_count": 12,
     "metadata": {},
     "output_type": "execute_result"
    }
   ],
   "source": [
    "from copy import deepcopy\n",
    "\n",
    "q3 = QuantumRegister(2, 'q3')\n",
    "circ3 = deepcopy(circ)\n",
    "circ3.add_register(q3)\n",
    "circ3.draw()"
   ]
  },
  {
   "cell_type": "markdown",
   "metadata": {},
   "source": [
    "<div class=\"alert alert-block alert-info\">\n",
    "<b>Note:</b> The circuit drawer has the last register added at the bottom. If we add a new register it will add it to the bottom of the circuit. \n",
    "</div>"
   ]
  },
  {
   "cell_type": "markdown",
   "metadata": {},
   "source": [
    "### Extending a circuit\n",
    "\n",
    "In many situations you may have two circuits that you want to concatenate to form a new circuit. This is very useful when one circuit has no measurements, and the final circuit represents a measurement.  "
   ]
  },
  {
   "cell_type": "code",
   "execution_count": 14,
   "metadata": {},
   "outputs": [
    {
     "data": {
      "text/html": [
       "<pre style=\"word-wrap: normal;white-space: pre;line-height: 15px;\">         ┌─┐              \n",
       "q0_0: |0>┤M├──────────────\n",
       "         └╥┘   ┌───┐┌─┐   \n",
       "q0_1: |0>─╫────┤ X ├┤M├───\n",
       "          ║    ├───┤└╥┘┌─┐\n",
       "q1_0: |0>─╫────┤ X ├─╫─┤M├\n",
       "          ║ ┌─┐└───┘ ║ └╥┘\n",
       "q1_1: |0>─╫─┤M├──────╫──╫─\n",
       "          ║ └╥┘      ║  ║ \n",
       " c0_0: 0 ═╩══╬═══════╬══╬═\n",
       "             ║       ║  ║ \n",
       " c0_1: 0 ════╬═══════╩══╬═\n",
       "             ║          ║ \n",
       " c1_0: 0 ════╬══════════╩═\n",
       "             ║            \n",
       " c1_1: 0 ════╩════════════\n",
       "                          </pre>"
      ],
      "text/plain": [
       "<qiskit.visualization.text.TextDrawing at 0x28074e7c2b0>"
      ]
     },
     "execution_count": 14,
     "metadata": {},
     "output_type": "execute_result"
    }
   ],
   "source": [
    "meas = QuantumCircuit(q0, q1, c0, c1)\n",
    "meas.measure(q0, c0)\n",
    "meas.measure(q1, c1)\n",
    "\n",
    "qc = circ + meas\n",
    "\n",
    "qc.draw()"
   ]
  },
  {
   "cell_type": "code",
   "execution_count": 15,
   "metadata": {},
   "outputs": [
    {
     "data": {
      "text/html": [
       "<pre style=\"word-wrap: normal;white-space: pre;line-height: 15px;\">         ┌─┐              \n",
       "q0_0: |0>┤M├──────────────\n",
       "         └╥┘   ┌───┐┌─┐   \n",
       "q0_1: |0>─╫────┤ X ├┤M├───\n",
       "          ║    ├───┤└╥┘┌─┐\n",
       "q1_0: |0>─╫────┤ X ├─╫─┤M├\n",
       "          ║ ┌─┐└───┘ ║ └╥┘\n",
       "q1_1: |0>─╫─┤M├──────╫──╫─\n",
       "          ║ └╥┘      ║  ║ \n",
       " c0_0: 0 ═╩══╬═══════╬══╬═\n",
       "             ║       ║  ║ \n",
       " c0_1: 0 ════╬═══════╩══╬═\n",
       "             ║          ║ \n",
       " c1_0: 0 ════╬══════════╩═\n",
       "             ║            \n",
       " c1_1: 0 ════╩════════════\n",
       "                          </pre>"
      ],
      "text/plain": [
       "<qiskit.visualization.text.TextDrawing at 0x28074e89208>"
      ]
     },
     "execution_count": 15,
     "metadata": {},
     "output_type": "execute_result"
    }
   ],
   "source": [
    "meas2 = QuantumCircuit()\n",
    "meas2.add_register(q0)\n",
    "meas2.add_register(q1)\n",
    "meas2.add_register(c0)\n",
    "meas2.add_register(c1)\n",
    "meas2.measure(q0, c0)\n",
    "meas2.measure(q1, c1)\n",
    "\n",
    "qc2 = circ2 + meas2\n",
    "\n",
    "qc2.draw()"
   ]
  },
  {
   "cell_type": "markdown",
   "metadata": {},
   "source": [
    "It even works when the circuits have different registers. Let's start by making two new circuits:"
   ]
  },
  {
   "cell_type": "code",
   "execution_count": 16,
   "metadata": {},
   "outputs": [
    {
     "data": {
      "text/html": [
       "<pre style=\"word-wrap: normal;white-space: pre;line-height: 15px;\">         ┌───┐\n",
       "q1_0: |0>┤ X ├\n",
       "         ├───┤\n",
       "q1_1: |0>┤ X ├\n",
       "         └───┘</pre>"
      ],
      "text/plain": [
       "<qiskit.visualization.text.TextDrawing at 0x28074f4c3c8>"
      ]
     },
     "execution_count": 16,
     "metadata": {},
     "output_type": "execute_result"
    }
   ],
   "source": [
    "circ4 = QuantumCircuit(q1)\n",
    "circ4.x(q1)\n",
    "circ4.draw()"
   ]
  },
  {
   "cell_type": "code",
   "execution_count": 17,
   "metadata": {},
   "outputs": [
    {
     "data": {
      "text/html": [
       "<pre style=\"word-wrap: normal;white-space: pre;line-height: 15px;\">         ┌───┐\n",
       "q3_0: |0>┤ H ├\n",
       "         ├───┤\n",
       "q3_1: |0>┤ H ├\n",
       "         └───┘</pre>"
      ],
      "text/plain": [
       "<qiskit.visualization.text.TextDrawing at 0x28074f504a8>"
      ]
     },
     "execution_count": 17,
     "metadata": {},
     "output_type": "execute_result"
    }
   ],
   "source": [
    "circ5 = QuantumCircuit(q3)\n",
    "circ5.h(q3)\n",
    "circ5.draw()"
   ]
  },
  {
   "cell_type": "markdown",
   "metadata": {},
   "source": [
    "The new register is added to the circuit:"
   ]
  },
  {
   "cell_type": "code",
   "execution_count": 18,
   "metadata": {},
   "outputs": [
    {
     "data": {
      "text/html": [
       "<pre style=\"word-wrap: normal;white-space: pre;line-height: 15px;\">         ┌───┐\n",
       "q1_0: |0>┤ X ├\n",
       "         ├───┤\n",
       "q1_1: |0>┤ X ├\n",
       "         ├───┤\n",
       "q3_0: |0>┤ H ├\n",
       "         ├───┤\n",
       "q3_1: |0>┤ H ├\n",
       "         └───┘</pre>"
      ],
      "text/plain": [
       "<qiskit.visualization.text.TextDrawing at 0x28074f50208>"
      ]
     },
     "execution_count": 18,
     "metadata": {},
     "output_type": "execute_result"
    }
   ],
   "source": [
    "(circ4+circ5).draw()"
   ]
  },
  {
   "cell_type": "markdown",
   "metadata": {},
   "source": [
    "We have also overloaded `+=` to the `QuantumCircuit` object:"
   ]
  },
  {
   "cell_type": "code",
   "execution_count": 19,
   "metadata": {},
   "outputs": [
    {
     "data": {
      "text/html": [
       "<pre style=\"word-wrap: normal;white-space: pre;line-height: 15px;\">         ┌───┐\n",
       "q1_0: |0>┤ X ├\n",
       "         ├───┤\n",
       "q1_1: |0>┤ X ├\n",
       "         ├───┤\n",
       "q3_0: |0>┤ H ├\n",
       "         ├───┤\n",
       "q3_1: |0>┤ H ├\n",
       "         └───┘</pre>"
      ],
      "text/plain": [
       "<qiskit.visualization.text.TextDrawing at 0x28075012748>"
      ]
     },
     "execution_count": 19,
     "metadata": {},
     "output_type": "execute_result"
    }
   ],
   "source": [
    "circ4 += circ5\n",
    "circ4.draw()"
   ]
  },
  {
   "cell_type": "markdown",
   "metadata": {},
   "source": [
    "## Outcomes of Quantum Circuits\n",
    "\n",
    "In the circuit output, the most significant bit (MSB) is to the left, and the least significant bit (LSB) is to the right (i.e., we follow little-endian ordering from computer science). In this example:"
   ]
  },
  {
   "cell_type": "code",
   "execution_count": 20,
   "metadata": {},
   "outputs": [
    {
     "data": {
      "text/html": [
       "<pre style=\"word-wrap: normal;white-space: pre;line-height: 15px;\">              \n",
       "q0_0: |0>─────\n",
       "         ┌───┐\n",
       "q0_1: |0>┤ X ├\n",
       "         ├───┤\n",
       "q1_0: |0>┤ X ├\n",
       "         └───┘\n",
       "q1_1: |0>─────\n",
       "              </pre>"
      ],
      "text/plain": [
       "<qiskit.visualization.text.TextDrawing at 0x28075012438>"
      ]
     },
     "execution_count": 20,
     "metadata": {},
     "output_type": "execute_result"
    }
   ],
   "source": [
    "circ.draw()"
   ]
  },
  {
   "cell_type": "markdown",
   "metadata": {},
   "source": [
    "qubit register $Q_0$ is prepared in the state $|10\\rangle$ and $Q_1$ is in the state $|01\\rangle$, giving a total state $|0110\\rangle$ ($Q1\\otimes Q0$). \n",
    "\n",
    "<div class=\"alert alert-block alert-info\">\n",
    "<b>Note:</b> The tensor order in Qiskit goes as $Q_n \\otimes .. Q_1 \\otimes Q_0$\n",
    "</div>\n",
    "\n",
    "That is the four-qubit statevector of length 16, with the sixth element (`int('0110',2)=6`) being one. Note the element count starts from zero."
   ]
  },
  {
   "cell_type": "code",
   "execution_count": 21,
   "metadata": {},
   "outputs": [
    {
     "name": "stdout",
     "output_type": "stream",
     "text": [
      "[0.+0.j 0.+0.j 0.+0.j 0.+0.j 0.+0.j 0.+0.j 1.+0.j 0.+0.j 0.+0.j 0.+0.j\n",
      " 0.+0.j 0.+0.j 0.+0.j 0.+0.j 0.+0.j 0.+0.j]\n"
     ]
    }
   ],
   "source": [
    "backend_sim = BasicAer.get_backend('statevector_simulator')\n",
    "result = execute(circ, backend_sim).result()\n",
    "state = result.get_statevector(circ)\n",
    "print(state)"
   ]
  },
  {
   "cell_type": "markdown",
   "metadata": {},
   "source": [
    "We can also use Qiskit Terra to make the unitary operator representing the circuit (provided there are no measurements). This will be a $16\\otimes16$ matrix equal to $I\\otimes X\\otimes X\\otimes I$."
   ]
  },
  {
   "cell_type": "code",
   "execution_count": 22,
   "metadata": {},
   "outputs": [
    {
     "name": "stdout",
     "output_type": "stream",
     "text": [
      "[[0.+0.j 0.+0.j 0.+0.j 0.+0.j 0.+0.j 0.+0.j 1.+0.j 0.+0.j 0.+0.j 0.+0.j\n",
      "  0.+0.j 0.+0.j 0.+0.j 0.+0.j 0.+0.j 0.+0.j]\n",
      " [0.+0.j 0.+0.j 0.+0.j 0.+0.j 0.+0.j 0.+0.j 0.+0.j 1.+0.j 0.+0.j 0.+0.j\n",
      "  0.+0.j 0.+0.j 0.+0.j 0.+0.j 0.+0.j 0.+0.j]\n",
      " [0.+0.j 0.+0.j 0.+0.j 0.+0.j 1.+0.j 0.+0.j 0.+0.j 0.+0.j 0.+0.j 0.+0.j\n",
      "  0.+0.j 0.+0.j 0.+0.j 0.+0.j 0.+0.j 0.+0.j]\n",
      " [0.+0.j 0.+0.j 0.+0.j 0.+0.j 0.+0.j 1.+0.j 0.+0.j 0.+0.j 0.+0.j 0.+0.j\n",
      "  0.+0.j 0.+0.j 0.+0.j 0.+0.j 0.+0.j 0.+0.j]\n",
      " [0.+0.j 0.+0.j 1.+0.j 0.+0.j 0.+0.j 0.+0.j 0.+0.j 0.+0.j 0.+0.j 0.+0.j\n",
      "  0.+0.j 0.+0.j 0.+0.j 0.+0.j 0.+0.j 0.+0.j]\n",
      " [0.+0.j 0.+0.j 0.+0.j 1.+0.j 0.+0.j 0.+0.j 0.+0.j 0.+0.j 0.+0.j 0.+0.j\n",
      "  0.+0.j 0.+0.j 0.+0.j 0.+0.j 0.+0.j 0.+0.j]\n",
      " [1.+0.j 0.+0.j 0.+0.j 0.+0.j 0.+0.j 0.+0.j 0.+0.j 0.+0.j 0.+0.j 0.+0.j\n",
      "  0.+0.j 0.+0.j 0.+0.j 0.+0.j 0.+0.j 0.+0.j]\n",
      " [0.+0.j 1.+0.j 0.+0.j 0.+0.j 0.+0.j 0.+0.j 0.+0.j 0.+0.j 0.+0.j 0.+0.j\n",
      "  0.+0.j 0.+0.j 0.+0.j 0.+0.j 0.+0.j 0.+0.j]\n",
      " [0.+0.j 0.+0.j 0.+0.j 0.+0.j 0.+0.j 0.+0.j 0.+0.j 0.+0.j 0.+0.j 0.+0.j\n",
      "  0.+0.j 0.+0.j 0.+0.j 0.+0.j 1.+0.j 0.+0.j]\n",
      " [0.+0.j 0.+0.j 0.+0.j 0.+0.j 0.+0.j 0.+0.j 0.+0.j 0.+0.j 0.+0.j 0.+0.j\n",
      "  0.+0.j 0.+0.j 0.+0.j 0.+0.j 0.+0.j 1.+0.j]\n",
      " [0.+0.j 0.+0.j 0.+0.j 0.+0.j 0.+0.j 0.+0.j 0.+0.j 0.+0.j 0.+0.j 0.+0.j\n",
      "  0.+0.j 0.+0.j 1.+0.j 0.+0.j 0.+0.j 0.+0.j]\n",
      " [0.+0.j 0.+0.j 0.+0.j 0.+0.j 0.+0.j 0.+0.j 0.+0.j 0.+0.j 0.+0.j 0.+0.j\n",
      "  0.+0.j 0.+0.j 0.+0.j 1.+0.j 0.+0.j 0.+0.j]\n",
      " [0.+0.j 0.+0.j 0.+0.j 0.+0.j 0.+0.j 0.+0.j 0.+0.j 0.+0.j 0.+0.j 0.+0.j\n",
      "  1.+0.j 0.+0.j 0.+0.j 0.+0.j 0.+0.j 0.+0.j]\n",
      " [0.+0.j 0.+0.j 0.+0.j 0.+0.j 0.+0.j 0.+0.j 0.+0.j 0.+0.j 0.+0.j 0.+0.j\n",
      "  0.+0.j 1.+0.j 0.+0.j 0.+0.j 0.+0.j 0.+0.j]\n",
      " [0.+0.j 0.+0.j 0.+0.j 0.+0.j 0.+0.j 0.+0.j 0.+0.j 0.+0.j 1.+0.j 0.+0.j\n",
      "  0.+0.j 0.+0.j 0.+0.j 0.+0.j 0.+0.j 0.+0.j]\n",
      " [0.+0.j 0.+0.j 0.+0.j 0.+0.j 0.+0.j 0.+0.j 0.+0.j 0.+0.j 0.+0.j 1.+0.j\n",
      "  0.+0.j 0.+0.j 0.+0.j 0.+0.j 0.+0.j 0.+0.j]]\n"
     ]
    }
   ],
   "source": [
    "backend_sim = BasicAer.get_backend('unitary_simulator')\n",
    "result = execute(circ, backend_sim).result()\n",
    "unitary = result.get_unitary(circ)\n",
    "print(unitary)"
   ]
  },
  {
   "cell_type": "markdown",
   "metadata": {},
   "source": [
    "To map the information of the quantum state to the classial world, we use the example with measurements `qc`:"
   ]
  },
  {
   "cell_type": "code",
   "execution_count": 23,
   "metadata": {},
   "outputs": [
    {
     "data": {
      "text/html": [
       "<pre style=\"word-wrap: normal;white-space: pre;line-height: 15px;\">         ┌─┐              \n",
       "q0_0: |0>┤M├──────────────\n",
       "         └╥┘   ┌───┐┌─┐   \n",
       "q0_1: |0>─╫────┤ X ├┤M├───\n",
       "          ║    ├───┤└╥┘┌─┐\n",
       "q1_0: |0>─╫────┤ X ├─╫─┤M├\n",
       "          ║ ┌─┐└───┘ ║ └╥┘\n",
       "q1_1: |0>─╫─┤M├──────╫──╫─\n",
       "          ║ └╥┘      ║  ║ \n",
       " c0_0: 0 ═╩══╬═══════╬══╬═\n",
       "             ║       ║  ║ \n",
       " c0_1: 0 ════╬═══════╩══╬═\n",
       "             ║          ║ \n",
       " c1_0: 0 ════╬══════════╩═\n",
       "             ║            \n",
       " c1_1: 0 ════╩════════════\n",
       "                          </pre>"
      ],
      "text/plain": [
       "<qiskit.visualization.text.TextDrawing at 0x280750262b0>"
      ]
     },
     "execution_count": 23,
     "metadata": {},
     "output_type": "execute_result"
    }
   ],
   "source": [
    "qc.draw()"
   ]
  },
  {
   "cell_type": "markdown",
   "metadata": {},
   "source": [
    "This will map the quantum state to the classical world. Since the state has no superpositions, it will be deterministic and equal to `'01 10'`.  Here a space is used to separate the registers."
   ]
  },
  {
   "cell_type": "code",
   "execution_count": 24,
   "metadata": {},
   "outputs": [
    {
     "name": "stdout",
     "output_type": "stream",
     "text": [
      "{'01 10': 1024}\n"
     ]
    }
   ],
   "source": [
    "backend_sim = BasicAer.get_backend('qasm_simulator')\n",
    "result = execute(qc, backend_sim).result()\n",
    "counts = result.get_counts(qc)\n",
    "print(counts)"
   ]
  },
  {
   "cell_type": "markdown",
   "metadata": {},
   "source": [
    "To show that it does not matter how you add the registers, we run the same as above on the second example circuit:"
   ]
  },
  {
   "cell_type": "code",
   "execution_count": 25,
   "metadata": {
    "solution": "hidden"
   },
   "outputs": [],
   "source": [
    "backend_sim = BasicAer.get_backend('statevector_simulator')\n",
    "result = execute(circ2, backend_sim).result()\n",
    "states = result.get_statevector(circ2)\n",
    "\n",
    "backend_sim = BasicAer.get_backend('qasm_simulator')\n",
    "result = execute(qc2, backend_sim, shots=1024).result()\n",
    "counts = result.get_counts(qc2)\n",
    "\n",
    "backend_sim = BasicAer.get_backend('unitary_simulator')\n",
    "result = execute(circ2, backend_sim, shots=1024).result()\n",
    "unitary = result.get_unitary(circ2)"
   ]
  },
  {
   "cell_type": "code",
   "execution_count": 26,
   "metadata": {},
   "outputs": [
    {
     "name": "stdout",
     "output_type": "stream",
     "text": [
      "{'01 10': 1024}\n"
     ]
    }
   ],
   "source": [
    "print(counts)"
   ]
  },
  {
   "cell_type": "markdown",
   "metadata": {},
   "source": [
    "## Aer vs BasicAer"
   ]
  },
  {
   "cell_type": "markdown",
   "metadata": {},
   "source": [
    "`BasicAer` and `Aer` are simulator `Provider`s in the sameway that `IBMQ` is a provider for our physical devices. `Aer` is a high-performance C++ provider, whereas `BasicAer` is implemented in Python"
   ]
  },
  {
   "cell_type": "markdown",
   "metadata": {
    "solution": "hidden",
    "solution_first": true
   },
   "source": [
    "<span class=\"badge badge-primary\">Exercise 1.1</span> Try comparing the results of a random quantum circuit with ~1000 gates executed with both `Aer` and `BasicAer` for 14 qubits. The rough steps to this are\n",
    "\n",
    "1. Import the required simulators from `BasicAer` and `Aer`.\n",
    "2. Create your `QuantumRegister`, `ClassicalRegister` and `QuantumCircuit`\n",
    "3. Add 1000 gates at random\n",
    "4. Submit the job and ask for the result. We encourage you to time the results.\n",
    "5. Get the counts from the results and compare them."
   ]
  },
  {
   "cell_type": "code",
   "execution_count": 40,
   "metadata": {},
   "outputs": [],
   "source": [
    "from qiskit import BasicAer, Aer\n",
    "basicaer_backend_sim = BasicAer.get_backend('qasm_simulator')\n",
    "basicaer_result = execute(qc2, backend_sim, shots=1024).result()\n",
    "aer_backend_sim = Aer.get_backend('qasm_simulator')\n"
   ]
  },
  {
   "cell_type": "code",
   "execution_count": 42,
   "metadata": {
    "solution": "hidden"
   },
   "outputs": [
    {
     "name": "stdout",
     "output_type": "stream",
     "text": [
      "BasicAer\n",
      "Wall time: 2.51 s\n",
      "{'10101100111100': 1024}\n",
      "Aer\n",
      "Wall time: 1.01 s\n",
      "{'10101100111100': 1024}\n"
     ]
    }
   ],
   "source": [
    "n_qubits = 14\n",
    "n_gates = 1000\n",
    "\n",
    "qr = QuantumRegister(n_qubits)\n",
    "cr = ClassicalRegister(n_qubits)\n",
    "qc_benchmark = QuantumCircuit(qr, cr)\n",
    "\n",
    "for i in range(n_gates):\n",
    "    random_qubit = np.random.randint(0, n_qubits)\n",
    "    qc_benchmark.x(qr[random_qubit])\n",
    "\n",
    "qc_benchmark.measure(qr, cr)\n",
    "\n",
    "\n",
    "print('BasicAer')\n",
    "%time basicaer_result = execute(qc_benchmark, basicaer_backend_sim).result()\n",
    "print(basicaer_result.get_counts(qc_benchmark))\n",
    "print('Aer')\n",
    "%time aer_result = execute(qc_benchmark, aer_backend_sim).result()\n",
    "print(aer_result.get_counts(qc_benchmark))"
   ]
  },
  {
   "cell_type": "markdown",
   "metadata": {
    "solution": "hidden"
   },
   "source": [
    "It should not surprise you that the results of both experiments are identical since only perfect `x` gates were simulated. The Aer simulator is faster and this difference will only be enhanced for longer circuits with more qubits."
   ]
  },
  {
   "cell_type": "markdown",
   "metadata": {},
   "source": [
    "## Running on a real quantum computer\n",
    "\n",
    "Before we start running on a real device we have to cover some of the preliminaries. At IBM Q we access our quantum computers through the cloud. This allows our experimentalist to sit in their cozy offices and run experiments on cutting edge hardware through their keyboard. It also means they have may have to share the device with other users. There are therefore a couple steps to running a job that we glossed over above."
   ]
  },
  {
   "cell_type": "code",
   "execution_count": 54,
   "metadata": {},
   "outputs": [],
   "source": [
    "from qiskit.transpiler import *\n",
    "IBMQ.load_accounts()\n"
   ]
  },
  {
   "cell_type": "code",
   "execution_count": 55,
   "metadata": {},
   "outputs": [
    {
     "data": {
      "text/plain": [
       "[<IBMQSimulator('ibmq_qasm_simulator') from IBMQ(ibm-q, open, main)>,\n",
       " <IBMQBackend('ibmqx4') from IBMQ(ibm-q, open, main)>,\n",
       " <IBMQBackend('ibmqx2') from IBMQ(ibm-q, open, main)>,\n",
       " <IBMQBackend('ibmq_16_melbourne') from IBMQ(ibm-q, open, main)>]"
      ]
     },
     "execution_count": 55,
     "metadata": {},
     "output_type": "execute_result"
    }
   ],
   "source": [
    "IBMQ.backends()"
   ]
  },
  {
   "cell_type": "code",
   "execution_count": 56,
   "metadata": {},
   "outputs": [
    {
     "name": "stderr",
     "output_type": "stream",
     "text": [
      "C:\\Users\\aorfi\\Anaconda3\\lib\\site-packages\\qiskit\\transpiler\\transpiler.py:55: DeprecationWarning: qiskit.transpiler.transpile() has been deprecated and will be removed in the 0.9 release. Use qiskit.compiler.transpile() instead.\n",
      "  DeprecationWarning)\n"
     ]
    }
   ],
   "source": [
    "melbourne_backend = IBMQ.get_backend('ibmq_16_melbourne')\n",
    "transpiled_circ = transpile(circ, melbourne_backend)"
   ]
  },
  {
   "cell_type": "markdown",
   "metadata": {},
   "source": [
    "First it calls `transpile` which will optimize your circuit for the device and return this new optimized but logically equivalent circuit"
   ]
  },
  {
   "cell_type": "code",
   "execution_count": 84,
   "metadata": {},
   "outputs": [
    {
     "data": {
      "text/html": [
       "<pre style=\"word-wrap: normal;white-space: pre;line-height: 15px;\">              \n",
       "q0_0: |0>─────\n",
       "         ┌───┐\n",
       "q0_1: |0>┤ X ├\n",
       "         ├───┤\n",
       "q1_0: |0>┤ X ├\n",
       "         └───┘\n",
       "q1_1: |0>─────\n",
       "              </pre>"
      ],
      "text/plain": [
       "<qiskit.visualization.text.TextDrawing at 0x28077e166a0>"
      ]
     },
     "execution_count": 84,
     "metadata": {},
     "output_type": "execute_result"
    }
   ],
   "source": [
    "circ.draw()"
   ]
  },
  {
   "cell_type": "markdown",
   "metadata": {},
   "source": [
    "transpiled_circ = transpile(circ, melbourne_backend)"
   ]
  },
  {
   "cell_type": "markdown",
   "metadata": {},
   "source": [
    "Next it assembles the circuit into a Qobj, which will be sent over the internet to the device"
   ]
  },
  {
   "cell_type": "code",
   "execution_count": 57,
   "metadata": {},
   "outputs": [],
   "source": [
    "from qiskit.compiler import assemble\n",
    "qobj = assemble(transpiled_circ, melbourne_backend)"
   ]
  },
  {
   "cell_type": "markdown",
   "metadata": {},
   "source": [
    "The qobj is a universal format, so it can be sent to any device that has the required properties. In this case we will send it to the simulator so as not to waste valuable device time. The backend returns a `Job` object."
   ]
  },
  {
   "cell_type": "code",
   "execution_count": 60,
   "metadata": {
    "solution": "hidden"
   },
   "outputs": [
    {
     "name": "stderr",
     "output_type": "stream",
     "text": [
      "No classical registers in circuit \"circuit0\", counts will be empty.\n"
     ]
    }
   ],
   "source": [
    "job = backend_sim.run(qobj)"
   ]
  },
  {
   "cell_type": "markdown",
   "metadata": {},
   "source": [
    "The job has a unique `job_id` which the API keeps track of"
   ]
  },
  {
   "cell_type": "code",
   "execution_count": 59,
   "metadata": {
    "solution": "hidden"
   },
   "outputs": [
    {
     "name": "stdout",
     "output_type": "stream",
     "text": [
      "Basic Aer\n",
      "Wall time: 2.62 s\n",
      "Aer\n",
      "Wall time: 993 ms\n",
      "{'00100001001001': 1024}\n",
      "{'00100001001001': 1024}\n"
     ]
    }
   ],
   "source": [
    "basicaer_backend_sim = BasicAer.get_backend('qasm_simulator')\n",
    "aer_backend_sim = Aer.get_backend('qasm_simulator')\n",
    "\n",
    "n_qubits = 14\n",
    "n_gates = 1000\n",
    "\n",
    "qr = QuantumRegister(n_qubits)\n",
    "cr = ClassicalRegister(n_qubits)\n",
    "qc_benchmark = QuantumCircuit(qr, cr)\n",
    "\n",
    "for i in range(n_gates):\n",
    "    random_qubit = np.random.randint(0, n_qubits)\n",
    "    qc_benchmark.x(qr[random_qubit])\n",
    "\n",
    "qc_benchmark.measure(qr, cr)\n",
    "\n",
    "print('Basic Aer')\n",
    "%time basic_aer_counts = execute(qc_benchmark, basicaer_backend_sim).result().get_counts(qc_benchmark)\n",
    "\n",
    "print('Aer')\n",
    "%time aer_counts = execute(qc_benchmark, aer_backend_sim).result().get_counts(qc_benchmark)\n",
    "\n",
    "print(basic_aer_counts)\n",
    "print(aer_counts)"
   ]
  },
  {
   "cell_type": "code",
   "execution_count": 61,
   "metadata": {},
   "outputs": [
    {
     "data": {
      "text/plain": [
       "'7878f498-69f2-41bb-8c90-19c4692a37ed'"
      ]
     },
     "execution_count": 61,
     "metadata": {},
     "output_type": "execute_result"
    }
   ],
   "source": [
    "job.job_id()"
   ]
  },
  {
   "cell_type": "markdown",
   "metadata": {},
   "source": [
    "We can also track the status of the job"
   ]
  },
  {
   "cell_type": "code",
   "execution_count": 62,
   "metadata": {},
   "outputs": [
    {
     "data": {
      "text/plain": [
       "<JobStatus.DONE: 'job has successfully run'>"
      ]
     },
     "execution_count": 62,
     "metadata": {},
     "output_type": "execute_result"
    }
   ],
   "source": [
    "job.status()"
   ]
  },
  {
   "cell_type": "markdown",
   "metadata": {},
   "source": [
    "And finally we can ask for the job result which will block until completion"
   ]
  },
  {
   "cell_type": "code",
   "execution_count": 63,
   "metadata": {
    "solution": "hidden"
   },
   "outputs": [],
   "source": [
    "result = job.result()"
   ]
  },
  {
   "cell_type": "markdown",
   "metadata": {
    "solution": "hidden"
   },
   "source": [
    "## Real device results"
   ]
  },
  {
   "cell_type": "markdown",
   "metadata": {
    "solution": "hidden",
    "solution_first": true
   },
   "source": [
    "<span class=\"badge badge-primary\">Exercise 1.2</span> Now take the same circuit and run it on the real device, `ibmq_16_melbourne`. And also create a circuit with only 20 gates and four qubits and run this as well. \n",
    "\n",
    "Remember to load your credentials with the `IBMQ` provider and to grab a handle to the backend `ibmq_16_melbourne`. Using `IBMQ.get_backend`.\n",
    "\n",
    "<div class=\"alert alert-block alert-info\">\n",
    "<b>Note:</b> You can run both circuits at once by providing them as a list to 'execute', ie., 'execute([qc1, qc2], backend, ...)'.\n",
    "</div>\n",
    "\n",
    "<div class=\"alert alert-block alert-info\">\n",
    "<b>Note:</b> This may take a while if everyone sends their jobs at once.\n",
    "</div>"
   ]
  },
  {
   "cell_type": "code",
   "execution_count": 67,
   "metadata": {
    "solution": "hidden"
   },
   "outputs": [
    {
     "name": "stdout",
     "output_type": "stream",
     "text": [
      "Simulation\n",
      "Wall time: 2.51 s\n",
      "Melbourne\n",
      "Wall time: 48.3 s\n"
     ]
    }
   ],
   "source": [
    "IBMQ.load_accounts()\n",
    "melbourne_backend = IBMQ.get_backend('ibmq_16_melbourne')\n",
    "\n",
    "n_qubits = 4\n",
    "n_gates = 20\n",
    "\n",
    "qr = QuantumRegister(4)\n",
    "cr = ClassicalRegister(4)\n",
    "qc_benchmark_20 = QuantumCircuit(qr, cr)\n",
    "\n",
    "for i in range(n_gates):\n",
    "    random_qubit = np.random.randint(0, n_qubits)\n",
    "    qc_benchmark_20.x(qr[random_qubit])\n",
    "\n",
    "qc_benchmark_20.measure(qr, cr)\n",
    "\n",
    "\n",
    "print('Simulation')\n",
    "%time sim_result = execute([qc_benchmark, qc_benchmark_20], basicaer_backend_sim).result()\n",
    "print('Melbourne')\n",
    "%time melbourne_result = execute([qc_benchmark, qc_benchmark_20], melbourne_backend).result()\n",
    "\n",
    "sim_counts_1000 = sim_result.get_counts(qc_benchmark)\n",
    "sim_counts_20 = sim_result.get_counts(qc_benchmark_20)\n",
    "\n",
    "melbourne_counts_1000 = melbourne_result.get_counts(qc_benchmark)\n",
    "melbourne_counts_20 = melbourne_result.get_counts(qc_benchmark_20)"
   ]
  },
  {
   "cell_type": "markdown",
   "metadata": {
    "solution": "hidden",
    "solution_first": true
   },
   "source": [
    "<span class=\"badge badge-primary\">Exercise 1.3</span> Compare the physical device results to the ideal simulation. You can use the `plot_histogram` method to better visualize the results. What about for the experiment with only four qubits and twenty gates?\n",
    "\n",
    "<div class=\"alert alert-block alert-info\">\n",
    "<b>Note:</b> Use 'help' to get more information on how to use 'plot_histogram'. Try playing with the 'number_to_keep' option.\n",
    "</div>\n",
    "\n",
    "- What do you see? \n",
    "- Why do you think the results differ? \n",
    "- Are some gates worse than others?\n",
    "- Why do we even bother trying to build a quantum computer if the results are so bad?"
   ]
  },
  {
   "cell_type": "code",
   "execution_count": 68,
   "metadata": {
    "solution": "hidden"
   },
   "outputs": [
    {
     "data": {
      "image/png": "[encoded data removed]",
      "text/plain": [
       "<Figure size 504x360 with 1 Axes>"
      ]
     },
     "execution_count": 68,
     "metadata": {},
     "output_type": "execute_result"
    }
   ],
   "source": [
    "plot_histogram([sim_counts_1000, melbourne_counts_1000])"
   ]
  },
  {
   "cell_type": "code",
   "execution_count": 69,
   "metadata": {
    "solution": "hidden"
   },
   "outputs": [
    {
     "data": {
      "image/png": "[encoded data removed]",
      "text/plain": [
       "<Figure size 504x360 with 1 Axes>"
      ]
     },
     "execution_count": 69,
     "metadata": {},
     "output_type": "execute_result"
    }
   ],
   "source": [
    "plot_histogram([sim_counts_20, melbourne_counts_20])"
   ]
  },
  {
   "cell_type": "markdown",
   "metadata": {
    "solution": "hidden"
   },
   "source": [
    "As we can the real device is much different from the ideal expected result. This is due to a variety of noisy sources on the device such as T1 and T2 errors, in-perfect gates and measurement errors to name a few. Building a quantum computer is **very** hard and there are stil many engineering challenges that must be overcome. However there is hope that we can overcome these noisy qubits with quantum error correction and noise-tolerant hybrid quantum-classical algorithms."
   ]
  },
  {
   "cell_type": "markdown",
   "metadata": {},
   "source": [
    "## Simulating Noise"
   ]
  },
  {
   "cell_type": "markdown",
   "metadata": {},
   "source": [
    "From the experiments on the device it is clear that there is a lot of noise present. As an experimentalist it is important to understand this noise and how it will affect our quantum algorithms. As we noted in an earlier lecture the device returns this information in `backend.properties` and the `Aer` can use this to build a noise model which will allow it to simulate our circuit on a noisy device.\n",
    "\n",
    "Below we provide gate times for the melbourne device"
   ]
  },
  {
   "cell_type": "code",
   "execution_count": 73,
   "metadata": {},
   "outputs": [],
   "source": [
    "gate_times = [\n",
    "    ('u1', None, 0), ('u2', None, 100), ('u3', None, 200),\n",
    "    ('cx', [1, 0], 678), ('cx', [1, 2], 547), ('cx', [2, 3], 721),\n",
    "    ('cx', [4, 3], 733), ('cx', [4, 10], 721), ('cx', [5, 4], 800),\n",
    "    ('cx', [5, 6], 800), ('cx', [5, 9], 895), ('cx', [6, 8], 895),\n",
    "    ('cx', [7, 8], 640), ('cx', [9, 8], 895), ('cx', [9, 10], 800),\n",
    "    ('cx', [11, 10], 721), ('cx', [11, 3], 634), ('cx', [12, 2], 773),\n",
    "    ('cx', [13, 1], 2286), ('cx', [13, 12], 1504), ('cx', [], 800)\n",
    "]"
   ]
  },
  {
   "cell_type": "code",
   "execution_count": 82,
   "metadata": {
    "solution": "hidden"
   },
   "outputs": [
    {
     "name": "stdout",
     "output_type": "stream",
     "text": [
      "BackendProperties(backend_name='ibmq_16_melbourne', backend_version='1.0.0', gates=[Gate(gate='u1', parameters=[Nduv(date=datetime.datetime(2019, 6, 4, 6, 37, 17, tzinfo=tzutc()), name='gate_error', unit='', value=0.0)], qubits=[0]), Gate(gate='u2', parameters=[Nduv(date=datetime.datetime(2019, 6, 4, 6, 37, 17, tzinfo=tzutc()), name='gate_error', unit='', value=0.002188080414918525)], qubits=[0]), Gate(gate='u3', parameters=[Nduv(date=datetime.datetime(2019, 6, 4, 6, 37, 17, tzinfo=tzutc()), name='gate_error', unit='', value=0.00437616082983705)], qubits=[0]), Gate(gate='u1', parameters=[Nduv(date=datetime.datetime(2019, 6, 4, 6, 37, 17, tzinfo=tzutc()), name='gate_error', unit='', value=0.0)], qubits=[1]), Gate(gate='u2', parameters=[Nduv(date=datetime.datetime(2019, 6, 4, 6, 37, 17, tzinfo=tzutc()), name='gate_error', unit='', value=0.007112547466463726)], qubits=[1]), Gate(gate='u3', parameters=[Nduv(date=datetime.datetime(2019, 6, 4, 6, 37, 17, tzinfo=tzutc()), name='gate_error', unit='', value=0.014225094932927451)], qubits=[1]), Gate(gate='u1', parameters=[Nduv(date=datetime.datetime(2019, 6, 4, 6, 37, 17, tzinfo=tzutc()), name='gate_error', unit='', value=0.0)], qubits=[2]), Gate(gate='u2', parameters=[Nduv(date=datetime.datetime(2019, 6, 4, 6, 37, 17, tzinfo=tzutc()), name='gate_error', unit='', value=0.004578082581478904)], qubits=[2]), Gate(gate='u3', parameters=[Nduv(date=datetime.datetime(2019, 6, 4, 6, 37, 17, tzinfo=tzutc()), name='gate_error', unit='', value=0.009156165162957808)], qubits=[2]), Gate(gate='u1', parameters=[Nduv(date=datetime.datetime(2019, 6, 4, 6, 37, 17, tzinfo=tzutc()), name='gate_error', unit='', value=0.0)], qubits=[3]), Gate(gate='u2', parameters=[Nduv(date=datetime.datetime(2019, 6, 4, 6, 37, 17, tzinfo=tzutc()), name='gate_error', unit='', value=0.0020086958427721346)], qubits=[3]), Gate(gate='u3', parameters=[Nduv(date=datetime.datetime(2019, 6, 4, 6, 37, 17, tzinfo=tzutc()), name='gate_error', unit='', value=0.004017391685544269)], qubits=[3]), Gate(gate='u1', parameters=[Nduv(date=datetime.datetime(2019, 6, 4, 6, 37, 17, tzinfo=tzutc()), name='gate_error', unit='', value=0.0)], qubits=[4]), Gate(gate='u2', parameters=[Nduv(date=datetime.datetime(2019, 6, 4, 6, 37, 17, tzinfo=tzutc()), name='gate_error', unit='', value=0.0025125920298026405)], qubits=[4]), Gate(gate='u3', parameters=[Nduv(date=datetime.datetime(2019, 6, 4, 6, 37, 17, tzinfo=tzutc()), name='gate_error', unit='', value=0.005025184059605281)], qubits=[4]), Gate(gate='u1', parameters=[Nduv(date=datetime.datetime(2019, 6, 4, 6, 37, 17, tzinfo=tzutc()), name='gate_error', unit='', value=0.0)], qubits=[5]), Gate(gate='u2', parameters=[Nduv(date=datetime.datetime(2019, 6, 4, 6, 37, 17, tzinfo=tzutc()), name='gate_error', unit='', value=0.002525000274235578)], qubits=[5]), Gate(gate='u3', parameters=[Nduv(date=datetime.datetime(2019, 6, 4, 6, 37, 17, tzinfo=tzutc()), name='gate_error', unit='', value=0.005050000548471156)], qubits=[5]), Gate(gate='u1', parameters=[Nduv(date=datetime.datetime(2019, 6, 4, 6, 37, 17, tzinfo=tzutc()), name='gate_error', unit='', value=0.0)], qubits=[6]), Gate(gate='u2', parameters=[Nduv(date=datetime.datetime(2019, 6, 4, 6, 37, 17, tzinfo=tzutc()), name='gate_error', unit='', value=0.001514254503205248)], qubits=[6]), Gate(gate='u3', parameters=[Nduv(date=datetime.datetime(2019, 6, 4, 6, 37, 17, tzinfo=tzutc()), name='gate_error', unit='', value=0.003028509006410496)], qubits=[6]), Gate(gate='u1', parameters=[Nduv(date=datetime.datetime(2019, 6, 4, 6, 37, 17, tzinfo=tzutc()), name='gate_error', unit='', value=0.0)], qubits=[7]), Gate(gate='u2', parameters=[Nduv(date=datetime.datetime(2019, 6, 4, 6, 37, 17, tzinfo=tzutc()), name='gate_error', unit='', value=0.0015785852139601486)], qubits=[7]), Gate(gate='u3', parameters=[Nduv(date=datetime.datetime(2019, 6, 4, 6, 37, 17, tzinfo=tzutc()), name='gate_error', unit='', value=0.0031571704279202972)], qubits=[7]), Gate(gate='u1', parameters=[Nduv(date=datetime.datetime(2019, 6, 4, 6, 37, 17, tzinfo=tzutc()), name='gate_error', unit='', value=0.0)], qubits=[8]), Gate(gate='u2', parameters=[Nduv(date=datetime.datetime(2019, 6, 4, 6, 37, 17, tzinfo=tzutc()), name='gate_error', unit='', value=0.0018303434034037114)], qubits=[8]), Gate(gate='u3', parameters=[Nduv(date=datetime.datetime(2019, 6, 4, 6, 37, 17, tzinfo=tzutc()), name='gate_error', unit='', value=0.0036606868068074228)], qubits=[8]), Gate(gate='u1', parameters=[Nduv(date=datetime.datetime(2019, 6, 4, 6, 37, 17, tzinfo=tzutc()), name='gate_error', unit='', value=0.0)], qubits=[9]), Gate(gate='u2', parameters=[Nduv(date=datetime.datetime(2019, 6, 4, 6, 37, 17, tzinfo=tzutc()), name='gate_error', unit='', value=0.0027348057180629493)], qubits=[9]), Gate(gate='u3', parameters=[Nduv(date=datetime.datetime(2019, 6, 4, 6, 37, 17, tzinfo=tzutc()), name='gate_error', unit='', value=0.0054696114361258985)], qubits=[9]), Gate(gate='u1', parameters=[Nduv(date=datetime.datetime(2019, 6, 4, 6, 37, 17, tzinfo=tzutc()), name='gate_error', unit='', value=0.0)], qubits=[10]), Gate(gate='u2', parameters=[Nduv(date=datetime.datetime(2019, 6, 4, 6, 37, 17, tzinfo=tzutc()), name='gate_error', unit='', value=0.0017326026958797702)], qubits=[10]), Gate(gate='u3', parameters=[Nduv(date=datetime.datetime(2019, 6, 4, 6, 37, 17, tzinfo=tzutc()), name='gate_error', unit='', value=0.0034652053917595405)], qubits=[10]), Gate(gate='u1', parameters=[Nduv(date=datetime.datetime(2019, 6, 4, 6, 37, 17, tzinfo=tzutc()), name='gate_error', unit='', value=0.0)], qubits=[11]), Gate(gate='u2', parameters=[Nduv(date=datetime.datetime(2019, 6, 4, 6, 37, 17, tzinfo=tzutc()), name='gate_error', unit='', value=0.10844713034929526)], qubits=[11]), Gate(gate='u3', parameters=[Nduv(date=datetime.datetime(2019, 6, 4, 6, 37, 17, tzinfo=tzutc()), name='gate_error', unit='', value=0.21689426069859052)], qubits=[11]), Gate(gate='u1', parameters=[Nduv(date=datetime.datetime(2019, 6, 4, 6, 37, 17, tzinfo=tzutc()), name='gate_error', unit='', value=0.0)], qubits=[12]), Gate(gate='u2', parameters=[Nduv(date=datetime.datetime(2019, 6, 4, 6, 37, 17, tzinfo=tzutc()), name='gate_error', unit='', value=0.003717840787216209)], qubits=[12]), Gate(gate='u3', parameters=[Nduv(date=datetime.datetime(2019, 6, 4, 6, 37, 17, tzinfo=tzutc()), name='gate_error', unit='', value=0.007435681574432418)], qubits=[12]), Gate(gate='u1', parameters=[Nduv(date=datetime.datetime(2019, 6, 4, 6, 37, 17, tzinfo=tzutc()), name='gate_error', unit='', value=0.0)], qubits=[13]), Gate(gate='u2', parameters=[Nduv(date=datetime.datetime(2019, 6, 4, 6, 37, 17, tzinfo=tzutc()), name='gate_error', unit='', value=0.005034741774966878)], qubits=[13]), Gate(gate='u3', parameters=[Nduv(date=datetime.datetime(2019, 6, 4, 6, 37, 17, tzinfo=tzutc()), name='gate_error', unit='', value=0.010069483549933755)], qubits=[13]), Gate(gate='cx', name='CX1_0', parameters=[Nduv(date=datetime.datetime(2019, 6, 4, 7, 40, 33, tzinfo=tzutc()), name='gate_error', unit='', value=0.03978607767465009)], qubits=[1, 0]), Gate(gate='cx', name='CX1_2', parameters=[Nduv(date=datetime.datetime(2019, 6, 4, 8, 41, 1, tzinfo=tzutc()), name='gate_error', unit='', value=0.04379343510672626)], qubits=[1, 2]), Gate(gate='cx', name='CX2_3', parameters=[Nduv(date=datetime.datetime(2019, 6, 4, 7, 43, 45, tzinfo=tzutc()), name='gate_error', unit='', value=0.05810624585665983)], qubits=[2, 3]), Gate(gate='cx', name='CX4_3', parameters=[Nduv(date=datetime.datetime(2019, 6, 4, 7, 47, 6, tzinfo=tzutc()), name='gate_error', unit='', value=0.03869744366646574)], qubits=[4, 3]), Gate(gate='cx', name='CX4_10', parameters=[Nduv(date=datetime.datetime(2019, 6, 4, 7, 50, 25, tzinfo=tzutc()), name='gate_error', unit='', value=0.03407995406603634)], qubits=[4, 10]), Gate(gate='cx', name='CX5_4', parameters=[Nduv(date=datetime.datetime(2019, 6, 4, 7, 53, 41, tzinfo=tzutc()), name='gate_error', unit='', value=0.04863445821885792)], qubits=[5, 4]), Gate(gate='cx', name='CX5_6', parameters=[Nduv(date=datetime.datetime(2019, 6, 4, 7, 57, 6, tzinfo=tzutc()), name='gate_error', unit='', value=0.0928077460430105)], qubits=[5, 6]), Gate(gate='cx', name='CX5_9', parameters=[Nduv(date=datetime.datetime(2019, 6, 4, 8, 1, 2, tzinfo=tzutc()), name='gate_error', unit='', value=0.07851166949359037)], qubits=[5, 9]), Gate(gate='cx', name='CX6_8', parameters=[Nduv(date=datetime.datetime(2019, 6, 2, 8, 1, 46, tzinfo=tzutc()), name='gate_error', unit='', value=0.040921203014915725)], qubits=[6, 8]), Gate(gate='cx', name='CX7_8', parameters=[Nduv(date=datetime.datetime(2019, 6, 4, 8, 8, tzinfo=tzutc()), name='gate_error', unit='', value=0.032126019743832834)], qubits=[7, 8]), Gate(gate='cx', name='CX9_8', parameters=[Nduv(date=datetime.datetime(2019, 6, 4, 8, 11, 11, tzinfo=tzutc()), name='gate_error', unit='', value=0.039414158042246294)], qubits=[9, 8]), Gate(gate='cx', name='CX9_10', parameters=[Nduv(date=datetime.datetime(2019, 6, 4, 8, 15, 13, tzinfo=tzutc()), name='gate_error', unit='', value=0.048939631016992696)], qubits=[9, 10]), Gate(gate='cx', name='CX11_3', parameters=[Nduv(date=datetime.datetime(2019, 5, 6, 8, 16, 19, tzinfo=tzutc()), name='gate_error', unit='', value=0.03873956484399349)], qubits=[11, 3]), Gate(gate='cx', name='CX11_10', parameters=[Nduv(date=datetime.datetime(2019, 5, 6, 8, 9, 49, tzinfo=tzutc()), name='gate_error', unit='', value=0.08015693590014958)], qubits=[11, 10]), Gate(gate='cx', name='CX11_12', parameters=[Nduv(date=datetime.datetime(2019, 5, 6, 8, 13, 6, tzinfo=tzutc()), name='gate_error', unit='', value=0.05520367311779159)], qubits=[11, 12]), Gate(gate='cx', name='CX12_2', parameters=[Nduv(date=datetime.datetime(2019, 6, 4, 8, 28, 31, tzinfo=tzutc()), name='gate_error', unit='', value=0.09998197306439778)], qubits=[12, 2]), Gate(gate='cx', name='CX13_1', parameters=[Nduv(date=datetime.datetime(2019, 6, 4, 8, 33, 6, tzinfo=tzutc()), name='gate_error', unit='', value=0.1369077261576741)], qubits=[13, 1]), Gate(gate='cx', name='CX13_12', parameters=[Nduv(date=datetime.datetime(2019, 6, 4, 8, 37, 8, tzinfo=tzutc()), name='gate_error', unit='', value=0.031758390449637935)], qubits=[13, 12])], general=[], last_update_date=datetime.datetime(2019, 6, 4, 8, 41, 1, tzinfo=tzutc()), qubits=[[Nduv(date=datetime.datetime(2019, 6, 4, 6, 32, 2, tzinfo=tzutc()), name='T1', unit='µs', value=75.52131707444323), Nduv(date=datetime.datetime(2019, 6, 4, 6, 33, 16, tzinfo=tzutc()), name='T2', unit='µs', value=24.30497516487978), Nduv(date=datetime.datetime(2019, 6, 4, 8, 41, 1, tzinfo=tzutc()), name='frequency', unit='GHz', value=5.100237119625593), Nduv(date=datetime.datetime(2019, 6, 4, 6, 31, 29, tzinfo=tzutc()), name='readout_error', unit='', value=0.02180000000000004)], [Nduv(date=datetime.datetime(2019, 6, 4, 6, 32, 2, tzinfo=tzutc()), name='T1', unit='µs', value=59.35681638883786), Nduv(date=datetime.datetime(2019, 6, 4, 6, 34, 17, tzinfo=tzutc()), name='T2', unit='µs', value=112.68697841892904), Nduv(date=datetime.datetime(2019, 6, 4, 8, 41, 1, tzinfo=tzutc()), name='frequency', unit='GHz', value=5.238529369084239), Nduv(date=datetime.datetime(2019, 6, 4, 6, 31, 29, tzinfo=tzutc()), name='readout_error', unit='', value=0.06980000000000008)], [Nduv(date=datetime.datetime(2019, 6, 4, 6, 32, 2, tzinfo=tzutc()), name='T1', unit='µs', value=76.36067460608261), Nduv(date=datetime.datetime(2019, 6, 4, 6, 35, 17, tzinfo=tzutc()), name='T2', unit='µs', value=117.12865555721778), Nduv(date=datetime.datetime(2019, 6, 4, 8, 41, 1, tzinfo=tzutc()), name='frequency', unit='GHz', value=5.032912795641603), Nduv(date=datetime.datetime(2019, 6, 4, 6, 31, 29, tzinfo=tzutc()), name='readout_error', unit='', value=0.04190000000000005)], [Nduv(date=datetime.datetime(2019, 6, 3, 6, 28, 48, tzinfo=tzutc()), name='T1', unit='µs', value=88.84624273836201), Nduv(date=datetime.datetime(2019, 6, 4, 6, 36, 20, tzinfo=tzutc()), name='T2', unit='µs', value=34.62891296517897), Nduv(date=datetime.datetime(2019, 6, 4, 8, 41, 1, tzinfo=tzutc()), name='frequency', unit='GHz', value=4.896165121837424), Nduv(date=datetime.datetime(2019, 6, 4, 6, 31, 29, tzinfo=tzutc()), name='readout_error', unit='', value=0.23909999999999998)], [Nduv(date=datetime.datetime(2019, 6, 4, 6, 32, 2, tzinfo=tzutc()), name='T1', unit='µs', value=55.98002403301423), Nduv(date=datetime.datetime(2019, 6, 4, 6, 33, 16, tzinfo=tzutc()), name='T2', unit='µs', value=29.81394877176268), Nduv(date=datetime.datetime(2019, 6, 4, 8, 41, 1, tzinfo=tzutc()), name='frequency', unit='GHz', value=5.026443826854546), Nduv(date=datetime.datetime(2019, 6, 4, 6, 31, 29, tzinfo=tzutc()), name='readout_error', unit='', value=0.04459999999999997)], [Nduv(date=datetime.datetime(2019, 6, 4, 6, 32, 2, tzinfo=tzutc()), name='T1', unit='µs', value=26.34526078341999), Nduv(date=datetime.datetime(2019, 6, 4, 6, 34, 17, tzinfo=tzutc()), name='T2', unit='µs', value=53.40124179747493), Nduv(date=datetime.datetime(2019, 6, 4, 8, 41, 1, tzinfo=tzutc()), name='frequency', unit='GHz', value=5.0673156221653946), Nduv(date=datetime.datetime(2019, 6, 4, 6, 31, 29, tzinfo=tzutc()), name='readout_error', unit='', value=0.060899999999999954)], [Nduv(date=datetime.datetime(2019, 6, 4, 6, 32, 2, tzinfo=tzutc()), name='T1', unit='µs', value=87.46318248435027), Nduv(date=datetime.datetime(2019, 6, 4, 6, 35, 17, tzinfo=tzutc()), name='T2', unit='µs', value=71.46384784339752), Nduv(date=datetime.datetime(2019, 6, 4, 8, 41, 1, tzinfo=tzutc()), name='frequency', unit='GHz', value=4.9238620680620615), Nduv(date=datetime.datetime(2019, 6, 4, 6, 31, 29, tzinfo=tzutc()), name='readout_error', unit='', value=0.038000000000000034)], [Nduv(date=datetime.datetime(2019, 6, 4, 6, 32, 2, tzinfo=tzutc()), name='T1', unit='µs', value=45.79556031930237), Nduv(date=datetime.datetime(2019, 6, 4, 6, 36, 20, tzinfo=tzutc()), name='T2', unit='µs', value=68.13264099637307), Nduv(date=datetime.datetime(2019, 6, 4, 8, 41, 1, tzinfo=tzutc()), name='frequency', unit='GHz', value=4.974482889934504), Nduv(date=datetime.datetime(2019, 6, 4, 6, 31, 29, tzinfo=tzutc()), name='readout_error', unit='', value=0.17409999999999992)], [Nduv(date=datetime.datetime(2019, 6, 3, 6, 28, 48, tzinfo=tzutc()), name='T1', unit='µs', value=98.02598607126694), Nduv(date=datetime.datetime(2019, 6, 4, 6, 33, 16, tzinfo=tzutc()), name='T2', unit='µs', value=121.91358605854911), Nduv(date=datetime.datetime(2019, 6, 4, 8, 41, 1, tzinfo=tzutc()), name='frequency', unit='GHz', value=4.73778951011439), Nduv(date=datetime.datetime(2019, 6, 4, 6, 31, 29, tzinfo=tzutc()), name='readout_error', unit='', value=0.055300000000000016)], [Nduv(date=datetime.datetime(2019, 6, 4, 6, 32, 2, tzinfo=tzutc()), name='T1', unit='µs', value=47.48644345558208), Nduv(date=datetime.datetime(2019, 6, 4, 6, 35, 17, tzinfo=tzutc()), name='T2', unit='µs', value=86.31954731321224), Nduv(date=datetime.datetime(2019, 6, 4, 8, 41, 1, tzinfo=tzutc()), name='frequency', unit='GHz', value=4.963453725472253), Nduv(date=datetime.datetime(2019, 6, 4, 6, 31, 29, tzinfo=tzutc()), name='readout_error', unit='', value=0.026799999999999935)], [Nduv(date=datetime.datetime(2019, 6, 4, 6, 32, 2, tzinfo=tzutc()), name='T1', unit='µs', value=60.19813928989633), Nduv(date=datetime.datetime(2019, 6, 4, 6, 34, 17, tzinfo=tzutc()), name='T2', unit='µs', value=65.1770503031989), Nduv(date=datetime.datetime(2019, 6, 4, 8, 41, 1, tzinfo=tzutc()), name='frequency', unit='GHz', value=4.94511878762754), Nduv(date=datetime.datetime(2019, 6, 4, 6, 31, 29, tzinfo=tzutc()), name='readout_error', unit='', value=0.0645)], [Nduv(date=datetime.datetime(2019, 6, 4, 6, 32, 2, tzinfo=tzutc()), name='T1', unit='µs', value=51.38682172539514), Nduv(date=datetime.datetime(2019, 5, 6, 6, 33, 40, tzinfo=tzutc()), name='T2', unit='µs', value=102.03409167196693), Nduv(date=datetime.datetime(2019, 6, 4, 8, 41, 1, tzinfo=tzutc()), name='frequency', unit='GHz', value=4.996813095693476), Nduv(date=datetime.datetime(2019, 6, 4, 6, 31, 29, tzinfo=tzutc()), name='readout_error', unit='', value=0.33309999999999995)], [Nduv(date=datetime.datetime(2019, 6, 4, 6, 32, 2, tzinfo=tzutc()), name='T1', unit='µs', value=100.01418113162572), Nduv(date=datetime.datetime(2019, 6, 4, 6, 34, 17, tzinfo=tzutc()), name='T2', unit='µs', value=141.25359431646248), Nduv(date=datetime.datetime(2019, 6, 4, 8, 41, 1, tzinfo=tzutc()), name='frequency', unit='GHz', value=4.760066159480226), Nduv(date=datetime.datetime(2019, 6, 4, 6, 31, 29, tzinfo=tzutc()), name='readout_error', unit='', value=0.11139999999999994)], [Nduv(date=datetime.datetime(2019, 6, 4, 6, 32, 2, tzinfo=tzutc()), name='T1', unit='µs', value=30.44995540440088), Nduv(date=datetime.datetime(2019, 6, 4, 6, 33, 16, tzinfo=tzutc()), name='T2', unit='µs', value=55.938068338304596), Nduv(date=datetime.datetime(2019, 6, 4, 8, 41, 1, tzinfo=tzutc()), name='frequency', unit='GHz', value=4.968466438279261), Nduv(date=datetime.datetime(2019, 6, 4, 6, 31, 29, tzinfo=tzutc()), name='readout_error', unit='', value=0.0363)]])\n"
     ]
    }
   ],
   "source": [
    "properties = melbourne_backend.properties()\n",
    "print(properties)"
   ]
  },
  {
   "cell_type": "code",
   "execution_count": 75,
   "metadata": {},
   "outputs": [],
   "source": [
    "configuration = melbourne_backend.configuration()"
   ]
  },
  {
   "cell_type": "code",
   "execution_count": 76,
   "metadata": {
    "solution": "shown"
   },
   "outputs": [
    {
     "name": "stdout",
     "output_type": "stream",
     "text": [
      "NoiseModel:\n",
      "  Basis gates: ['cx', 'id', 'u2', 'u3']\n",
      "  Instructions with noise: ['cx', 'measure', 'u3', 'u2']\n",
      "  Qubits with noise: [0, 1, 2, 3, 4, 5, 6, 7, 8, 9, 10, 11, 12, 13]\n",
      "  Specific qubit errors: [('u2', [0]), ('u2', [1]), ('u2', [2]), ('u2', [3]), ('u2', [4]), ('u2', [5]), ('u2', [6]), ('u2', [7]), ('u2', [8]), ('u2', [9]), ('u2', [10]), ('u2', [11]), ('u2', [12]), ('u2', [13]), ('u3', [0]), ('u3', [1]), ('u3', [2]), ('u3', [3]), ('u3', [4]), ('u3', [5]), ('u3', [6]), ('u3', [7]), ('u3', [8]), ('u3', [9]), ('u3', [10]), ('u3', [11]), ('u3', [12]), ('u3', [13]), ('cx', [1, 0]), ('cx', [1, 2]), ('cx', [2, 3]), ('cx', [4, 3]), ('cx', [4, 10]), ('cx', [5, 4]), ('cx', [5, 6]), ('cx', [5, 9]), ('cx', [6, 8]), ('cx', [7, 8]), ('cx', [9, 8]), ('cx', [9, 10]), ('cx', [11, 3]), ('cx', [11, 10]), ('cx', [11, 12]), ('cx', [12, 2]), ('cx', [13, 1]), ('cx', [13, 12]), ('measure', [0]), ('measure', [1]), ('measure', [2]), ('measure', [3]), ('measure', [4]), ('measure', [5]), ('measure', [6]), ('measure', [7]), ('measure', [8]), ('measure', [9]), ('measure', [10]), ('measure', [11]), ('measure', [12]), ('measure', [13])]\n"
     ]
    }
   ],
   "source": [
    "noise_model = noise.device.basic_device_noise_model(properties, gate_times=gate_times)\n",
    "print(noise_model)"
   ]
  },
  {
   "cell_type": "code",
   "execution_count": 77,
   "metadata": {
    "solution": "shown"
   },
   "outputs": [],
   "source": [
    "noisy_test_result = execute(qc, aer_backend_sim,\n",
    "                            noise_model=noise_model,\n",
    "                            coupling_map=configuration.coupling_map,\n",
    "                            basis_gates=configuration.basis_gates).result()\n",
    "\n",
    "noisy_test_counts = noisy_test_result.get_counts(qc)"
   ]
  },
  {
   "cell_type": "code",
   "execution_count": 78,
   "metadata": {},
   "outputs": [
    {
     "data": {
      "image/png": "[encoded data removed]",
      "text/plain": [
       "<Figure size 504x360 with 1 Axes>"
      ]
     },
     "execution_count": 78,
     "metadata": {},
     "output_type": "execute_result"
    }
   ],
   "source": [
    "plot_histogram([counts, noisy_test_counts])"
   ]
  },
  {
   "cell_type": "markdown",
   "metadata": {
    "solution": "shown",
    "solution_first": true
   },
   "source": [
    "<span class=\"badge badge-primary\">Exercise 1.4</span> Compare the results of the simulation with noise for your 1000 and 20 qubit circuits to the real device results. Is it better or worse? What do you think accounts for this difference?"
   ]
  },
  {
   "cell_type": "code",
   "execution_count": 79,
   "metadata": {
    "solution": "shown"
   },
   "outputs": [
    {
     "name": "stdout",
     "output_type": "stream",
     "text": [
      "Noisy Simulation\n",
      "Wall time: 7.89 s\n"
     ]
    }
   ],
   "source": [
    "print('Noisy Simulation')\n",
    "%time noisy_sim_result = execute([qc_benchmark, qc_benchmark_20], aer_backend_sim, noise_model=noise_model, coupling_map=configuration.coupling_map, basis_gates=configuration.basis_gates).result()\n",
    "\n",
    "noisy_sim_counts_1000 = noisy_sim_result.get_counts(qc_benchmark)\n",
    "noisy_sim_counts_20 = noisy_sim_result.get_counts(qc_benchmark_20)"
   ]
  },
  {
   "cell_type": "code",
   "execution_count": 80,
   "metadata": {
    "solution": "shown"
   },
   "outputs": [
    {
     "data": {
      "image/png": "[encoded data removed]",
      "text/plain": [
       "<Figure size 504x360 with 1 Axes>"
      ]
     },
     "execution_count": 80,
     "metadata": {},
     "output_type": "execute_result"
    }
   ],
   "source": [
    "plot_histogram([noisy_sim_counts_1000, melbourne_counts_1000])"
   ]
  },
  {
   "cell_type": "code",
   "execution_count": 81,
   "metadata": {
    "solution": "shown"
   },
   "outputs": [
    {
     "data": {
      "image/png": "[encoded data removed]",
      "text/plain": [
       "<Figure size 504x360 with 1 Axes>"
      ]
     },
     "execution_count": 81,
     "metadata": {},
     "output_type": "execute_result"
    }
   ],
   "source": [
    "plot_histogram([noisy_sim_counts_20, melbourne_counts_20])"
   ]
  },
  {
   "cell_type": "markdown",
   "metadata": {
    "solution": "shown"
   },
   "source": [
    "We observe that the noisy simulation results are in close agreement with the results we observed on our device. This means we at least understand *some* of the error. Note that since we only used `x` gates we did not generate entanglement (outside of unintended device errors) which is where many of the more complicated device errors can manifest themselves."
   ]
  },
  {
   "cell_type": "markdown",
   "metadata": {},
   "source": [
    "## Take away point\n",
    "\n",
    "State of the art quantum computers are very imperfect. They are noisy, have limited numbers of qubits and imperfect gates. We are still in the infancy of quantum computing.\n",
    "\n",
    "Don't despair! This means that there is still lots of room for your to make research and engineering breakthroughs!"
   ]
  }
 ],
 "metadata": {
  "kernelspec": {
   "display_name": "Python 3",
   "language": "python",
   "name": "python3"
  },
  "language_info": {
   "codemirror_mode": {
    "name": "ipython",
    "version": 3
   },
   "file_extension": ".py",
   "mimetype": "text/x-python",
   "name": "python",
   "nbconvert_exporter": "python",
   "pygments_lexer": "ipython3",
   "version": "3.7.3"
  }
 },
 "nbformat": 4,
 "nbformat_minor": 2
}
